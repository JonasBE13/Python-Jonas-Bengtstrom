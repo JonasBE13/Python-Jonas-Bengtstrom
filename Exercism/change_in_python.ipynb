{
 "cells": [
  {
   "cell_type": "markdown",
   "metadata": {},
   "source": [
    "Instructions\n",
    "Correctly determine the fewest number of coins to be given to a customer such that the sum of the coins' value would equal the correct amount of change.\n",
    "\n",
    "For example\n",
    "An input of 15 with [1, 5, 10, 25, 100] should return one nickel (5) and one dime (10) or [5, 10]\n",
    "An input of 40 with [1, 5, 10, 25, 100] should return one nickel (5) and one dime (10) and one quarter (25) or [5, 10, 25]\n",
    "Edge cases\n",
    "Does your algorithm work for any given set of coins?\n",
    "Can you ask for negative change?\n",
    "Can you ask for a change value smaller than the smallest coin value?\n",
    "Exception messages\n",
    "Sometimes it is necessary to raise an exception. When you do this, you should always include a meaningful error message to indicate what the source of the error is. This makes your code more readable and helps significantly with debugging. For situations where you know that the error source will be a certain type, you can choose to raise one of the built in error types, but should still include a meaningful message.\n",
    "\n",
    "This particular exercise requires that you use the raise statement to \"throw\" a ValueError when change cannot be made with the coins given. The tests will only pass if you both raise the exception and include a message with it.\n",
    "\n",
    "To raise a ValueError with a message, write the message as an argument to the exception type:\n",
    "\n",
    "# example when change cannot be made with the coins passed in\n",
    "raise ValueError(\"can't make target with given coins\")"
   ]
  },
  {
   "cell_type": "code",
   "execution_count": 16,
   "metadata": {},
   "outputs": [],
   "source": [
    "from __future__ import annotations\n",
    "\n",
    "def find_fewest_coins(coins: (int | float), target: list) -> list:\n",
    "    # coins is int or float\n",
    "    if not isinstance(coins, (int, float)): # ifall instance (coins) INTE är (int, float)\n",
    "        raise TypeError(f\"Coins must be a number, not {type(coins).__name__}\")\n",
    "    # coins is not negative\n",
    "    if coins < 0:\n",
    "        raise ValueError(f\"Coins must be greater than zero, not {coins}\")\n",
    "    # target is list\n",
    "    if type(target) != list:\n",
    "        raise TypeError(f\"Target must be a list, not a{type(target).__name__}\")\n",
    "    # target contains only int or float\n",
    "    # target contains only values greater than 0\n",
    "    for index, value in enumerate(target):\n",
    "        if not isinstance(value, (int, float)):\n",
    "            raise TypeError(f\"Target must contain numbers, value index {index} ({value}) is not accepted\")\n",
    "        if not value > 0: # ifall inte värdet är större än 0\n",
    "            raise ValueError(f\"Target must contain values over 0, value at index {index} ({value}) not accepted.\")\n",
    "    return_list = []\n",
    "    # coins = 17, target = [1,5,10]\n",
    "    # for index, value in enumerate(target):\n",
    "    #     if index+1 == len(target):\n",
    "    #         return_list.append(coins // value)\n",
    "    #     else:\n",
    "    #         count = coins % target[index + 1]\n",
    "    #         for i in range(count // value): # // floor division, räknar bort decimal. rundar alltid neråt.\n",
    "    #             return_list.append(value)\n",
    "    #         coins -= count\n",
    "    # return return_list\n",
    "    for value in reversed(target):\n",
    "        while True:\n",
    "            if (coins - value) >= 0:\n",
    "                coins -= value\n",
    "                return_list.append(value)\n",
    "            else:\n",
    "                break\n",
    "    return return_list[::-1]\n",
    "\n"
   ]
  },
  {
   "cell_type": "code",
   "execution_count": 18,
   "metadata": {},
   "outputs": [
    {
     "data": {
      "text/plain": [
       "[1, 1, 5, 25, 25, 100]"
      ]
     },
     "execution_count": 18,
     "metadata": {},
     "output_type": "execute_result"
    }
   ],
   "source": [
    "find_fewest_coins(157, [1,5,10,25,100])\n"
   ]
  },
  {
   "cell_type": "code",
   "execution_count": null,
   "metadata": {},
   "outputs": [],
   "source": [
    "# ______ ERROR EXPECTED __________\n",
    "\n",
    "target = [1,2,3,4, \"blå\"]\n",
    "\n",
    "for index, value in enumerate(target):\n",
    "    if not isinstance(value, (int, float)):\n",
    "        raise TypeError(f\"Target must contain numbers, value index {index} ({value}) is not accepted\")\n",
    "    "
   ]
  },
  {
   "cell_type": "code",
   "execution_count": null,
   "metadata": {},
   "outputs": [],
   "source": [
    "# Uppgift 6\n",
    "\n",
    "def change():\n",
    "    pengar = int(input(\"Ange ett heltal\"))\n",
    "    enkronor = pengar % 10\n",
    "    tiokronor = (pengar % 200 - enkronor)//10\n",
    "    tvahundralappar = (pengar % 1000 - tiokronor - enkronor)//200\n",
    "    tusenlappar = (pengar % 10000 - tvahundralappar - tiokronor - enkronor)//1000\n",
    "    if pengar > 1000:\n",
    "        print(f\"Tusenlapp: {tusenlappar}\")\n",
    "    if pengar > 100:\n",
    "        print(f\"Tvåhundralapp: {tvahundralappar}\")\n",
    "    if pengar > 10:\n",
    "        print(f\"Tiokrona: {tiokronor}\")\n",
    "    print(f\"Enkrona: {enkronor}\")\n",
    "change()"
   ]
  }
 ],
 "metadata": {
  "kernelspec": {
   "display_name": "Python 3.9.13 ('Python-Jonas-Bengtstrom-wbW5Yh3F')",
   "language": "python",
   "name": "python3"
  },
  "language_info": {
   "codemirror_mode": {
    "name": "ipython",
    "version": 3
   },
   "file_extension": ".py",
   "mimetype": "text/x-python",
   "name": "python",
   "nbconvert_exporter": "python",
   "pygments_lexer": "ipython3",
   "version": "3.9.13"
  },
  "orig_nbformat": 4,
  "vscode": {
   "interpreter": {
    "hash": "688e18696179dfa8cf5fc9f998467e10e34a82e616e395cc61c35dd60ca291fc"
   }
  }
 },
 "nbformat": 4,
 "nbformat_minor": 2
}
