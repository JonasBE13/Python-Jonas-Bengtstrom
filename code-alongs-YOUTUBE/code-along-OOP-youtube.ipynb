{
 "cells": [
  {
   "cell_type": "code",
   "execution_count": 4,
   "metadata": {},
   "outputs": [
    {
     "name": "stdout",
     "output_type": "stream",
     "text": [
      "<class 'function'>\n"
     ]
    }
   ],
   "source": [
    "\n",
    "\n",
    "def hello():\n",
    "    print(\"hello\")\n",
    "\n",
    "\n",
    "x = 1\n",
    "print(type(hello))"
   ]
  },
  {
   "cell_type": "code",
   "execution_count": 5,
   "metadata": {},
   "outputs": [
    {
     "name": "stdout",
     "output_type": "stream",
     "text": [
      "HELLO\n"
     ]
    }
   ],
   "source": [
    "string = \"Hello\"\n",
    "# upper() method. converts a string to only uppercases\n",
    "print(string.upper())"
   ]
  },
  {
   "cell_type": "code",
   "execution_count": 11,
   "metadata": {},
   "outputs": [
    {
     "name": "stdout",
     "output_type": "stream",
     "text": [
      "Jonas\n",
      "Jonas\n",
      "Bill\n",
      "Bill\n"
     ]
    }
   ],
   "source": [
    "class Dog:\n",
    "\n",
    "    def __init__(self, name) -> None:\n",
    "        self.name = name    # attribute of the class 'Dog'\n",
    "        print(name)\n",
    "        \n",
    "\n",
    "    def add_one(self, x):\n",
    "        return x + 1\n",
    "\n",
    "\n",
    "    def bark(self):\n",
    "        print(\"bark\")\n",
    "\n",
    "d = Dog(\"Jonas\")\n",
    "print(d.name)\n",
    "d2 = Dog(\"Bill\")\n",
    "print(d2.name)\n",
    "\n",
    "# d.bark()\n",
    "# print(d.add_one(5))\n",
    "# print(type(d))"
   ]
  },
  {
   "cell_type": "code",
   "execution_count": 16,
   "metadata": {},
   "outputs": [
    {
     "name": "stdout",
     "output_type": "stream",
     "text": [
      "62\n"
     ]
    }
   ],
   "source": [
    "class Dog:\n",
    "\n",
    "    def __init__(self, name, age) -> None:\n",
    "        self.name = name    # attribute of the class 'Dog'\n",
    "        self.age = age\n",
    "\n",
    "    def get_name(self):\n",
    "        return self.name\n",
    "    \n",
    "    def get_age(self):\n",
    "        return self.age\n",
    "\n",
    "    def set_age(self, age):\n",
    "        self.age = age\n",
    "\n",
    "\n",
    "d = Dog(\"Jonas\", 26)\n",
    "d.set_age(62)\n",
    "print(d.get_age())\n",
    "\n"
   ]
  },
  {
   "cell_type": "code",
   "execution_count": null,
   "metadata": {},
   "outputs": [],
   "source": [
    "class Dog:\n",
    "    # objects are used when i want to reuse something, like creating 50k dogs\n",
    "    def __init__(self, name, age) -> None:\n",
    "        self.name = name    # attribute of the class 'Dog'\n",
    "        self.age = age\n",
    "\n",
    "    def get_name(self):\n",
    "        return self.name\n",
    "    \n",
    "    def get_age(self):\n",
    "        return self.age\n",
    "\n",
    "    def set_age(self, age):\n",
    "        self.age = age\n",
    "\n",
    "\n"
   ]
  },
  {
   "cell_type": "code",
   "execution_count": 22,
   "metadata": {},
   "outputs": [
    {
     "name": "stdout",
     "output_type": "stream",
     "text": [
      "False\n",
      "85.0\n"
     ]
    }
   ],
   "source": [
    "class Student:\n",
    "    def __init__(self, name, age, grade) -> None:\n",
    "        self.name = name\n",
    "        self.age = age\n",
    "        self.grade = grade # 0 - 100\n",
    "\n",
    "    def get_grade(self):\n",
    "        return self.grade\n",
    "\n",
    "class Course:\n",
    "    def __init__(self, name, max_students) -> None:\n",
    "        self.name = name\n",
    "        self.max_students = max_students\n",
    "        self.students = []\n",
    "\n",
    "    def add_students(self, student):\n",
    "        if len(self.students) < self.max_students:\n",
    "            self.students.append(student)\n",
    "            return True\n",
    "        return False\n",
    "\n",
    "    def get_average_grade(self):\n",
    "        value = 0\n",
    "        for student in self.students:\n",
    "            value += student.get_grade()\n",
    "\n",
    "        return value / len(self.students)\n",
    "\n",
    "s1 = Student(\"Jonas\", 19, 95)\n",
    "s2 = Student(\"Bill\", 19, 75)\n",
    "s3 = Student(\"Jill\", 19, 65)\n",
    "\n",
    "course = Course(\"Science\", 2)\n",
    "course.add_students(s1)\n",
    "course.add_students(s2)\n",
    "#print(course.students[0].name)  #index 1 of students, calls the name which is 'Jonas'\n",
    "print(course.add_students(s3))  # can't add 3rd student because our course only holds 2 students. Our average grade is still the same.\n",
    "\n",
    "\n",
    "\n",
    "print(course.get_average_grade())\n",
    "\n"
   ]
  },
  {
   "cell_type": "code",
   "execution_count": null,
   "metadata": {},
   "outputs": [],
   "source": [
    "class Cat:\n",
    "    def __init__(self, name, age) -> None:\n",
    "        self.name = name\n",
    "        self.age = age\n",
    "    \n",
    "    def speak(self):\n",
    "        print(\"Meow\")\n",
    "\n",
    "class Dog:\n",
    "    def __init__(self, name, age) -> None:\n",
    "        self.name = name\n",
    "        self.age = age\n",
    "    \n",
    "    def speak(self):\n",
    "        print(\"Bark\")\n",
    "\n"
   ]
  },
  {
   "cell_type": "markdown",
   "metadata": {},
   "source": [
    "### different way \n",
    "### inheritance"
   ]
  },
  {
   "cell_type": "code",
   "execution_count": 30,
   "metadata": {},
   "outputs": [
    {
     "name": "stdout",
     "output_type": "stream",
     "text": [
      "I dont know what I say\n",
      "I am Bill and I am 34 years old and I am brown\n",
      "Bark\n",
      "I dont know what I say\n"
     ]
    }
   ],
   "source": [
    "class Pet:  # upper level class. general class. defines points that we're going to use in different classes\n",
    "    def __init__(self, name, age) -> None:\n",
    "        self.name = name\n",
    "        self.age = age\n",
    "        \n",
    "    def show(self):\n",
    "        print(f\"I am {self.name} and I am {self.age} years old\")\n",
    "\n",
    "    def speak(self):\n",
    "        print(\"I dont know what I say\")\n",
    "\n",
    "class Cat(Pet): # class Cat inherits 'Pet()-class' from upper level class\n",
    "    def __init__(self, name, age, color):\n",
    "        super().__init__(name, age) # 'super()' -> reference the super class, i.e 'Pet' in this case\n",
    "        self.color = color\n",
    "\n",
    "\n",
    "    def speak(self):\n",
    "        print(\"Meow\")\n",
    "\n",
    "    def show(self):\n",
    "        print(f\"I am {self.name} and I am {self.age} years old and I am {self.color}\")\n",
    "\n",
    "class Dog(Pet): # class Dog inherits 'Pet()-class' from upper level class\n",
    "    def speak(self):\n",
    "        print(\"Bark\")\n",
    "\n",
    "\n",
    "class Fish(Pet):\n",
    "    pass\n",
    "\n",
    "p = Pet(\"Jonas\", 26)\n",
    "p.speak()\n",
    "c = Cat(\"Bill\", 34, \"brown\")\n",
    "c.show()\n",
    "d = Dog(\"Jill\", 25)\n",
    "d.speak()\n",
    "f = Fish(\"Bubbles\", 10)\n",
    "f.speak()\n"
   ]
  },
  {
   "cell_type": "markdown",
   "metadata": {},
   "source": [
    "## Static and class medthods, class attributes"
   ]
  },
  {
   "cell_type": "code",
   "execution_count": 34,
   "metadata": {},
   "outputs": [
    {
     "name": "stdout",
     "output_type": "stream",
     "text": [
      "8\n",
      "9\n"
     ]
    }
   ],
   "source": [
    "\n",
    "class Person:\n",
    "    number_of_people = 0    # class attribute, doesn't have access to an instance of the class. defines for the entire class\n",
    "\n",
    "    def __init__(self, name) -> None:\n",
    "        self.name = name\n",
    "\n",
    "p1 = Person(\"Jonas\")\n",
    "p2 = Person(\"Tim\")\n",
    "\n",
    "Person.number_of_people = 8\n",
    "print(p2.number_of_people)\n",
    "Person.number_of_people = 9\n",
    "print(p1.number_of_people)"
   ]
  },
  {
   "cell_type": "code",
   "execution_count": 3,
   "metadata": {},
   "outputs": [
    {
     "name": "stdout",
     "output_type": "stream",
     "text": [
      "2\n"
     ]
    }
   ],
   "source": [
    "class Person:\n",
    "    number_of_people = 0    # class attribute, doesn't have access to an instance of the class. defines for the entire class\n",
    "    GRAVITY = -9.8\n",
    "\n",
    "    def __init__(self, name) -> None:\n",
    "        self.name = name\n",
    "        Person.add_person()\n",
    "\n",
    "    @classmethod\n",
    "    def number_of_people_(cls):\n",
    "        return cls.number_of_people\n",
    "\n",
    "    @classmethod\n",
    "    def add_person(cls):\n",
    "        cls.number_of_people += 1\n",
    "\n",
    "p1 = Person(\"Jonas\")\n",
    "p2 = Person(\"Tim\")\n",
    "print(Person.number_of_people_())\n"
   ]
  },
  {
   "cell_type": "markdown",
   "metadata": {},
   "source": [
    "## static methods"
   ]
  },
  {
   "cell_type": "code",
   "execution_count": 3,
   "metadata": {},
   "outputs": [
    {
     "name": "stdout",
     "output_type": "stream",
     "text": [
      "15\n",
      "run\n"
     ]
    }
   ],
   "source": [
    "class Math:\n",
    "\n",
    "    @staticmethod\n",
    "    def add5(x):\n",
    "        return x + 5\n",
    "\n",
    "    @staticmethod\n",
    "    def add10(x):\n",
    "        return x + 10\n",
    "\n",
    "    @staticmethod\n",
    "    def pr():\n",
    "        print(\"run\")\n",
    "\n",
    "\n",
    "print(Math.add10(5))\n",
    "Math.pr()"
   ]
  }
 ],
 "metadata": {
  "kernelspec": {
   "display_name": "Python 3.9.13 ('Python-Jonas-Bengtstrom-wbW5Yh3F')",
   "language": "python",
   "name": "python3"
  },
  "language_info": {
   "codemirror_mode": {
    "name": "ipython",
    "version": 3
   },
   "file_extension": ".py",
   "mimetype": "text/x-python",
   "name": "python",
   "nbconvert_exporter": "python",
   "pygments_lexer": "ipython3",
   "version": "3.9.13"
  },
  "orig_nbformat": 4,
  "vscode": {
   "interpreter": {
    "hash": "688e18696179dfa8cf5fc9f998467e10e34a82e616e395cc61c35dd60ca291fc"
   }
  }
 },
 "nbformat": 4,
 "nbformat_minor": 2
}
