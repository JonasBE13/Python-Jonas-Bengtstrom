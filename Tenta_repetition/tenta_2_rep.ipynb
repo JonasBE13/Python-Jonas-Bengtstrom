{
 "cells": [
  {
   "cell_type": "markdown",
   "metadata": {},
   "source": [
    "## Uppgift 2 (3p)\n",
    "Skapa en funktion som tar in ett heltal n som parameter och skriver ut följande mönstret nedan.\n",
    "Exempel när n = 5:\n",
    "\n",
    "x o o o o  \n",
    "x x o o o  \n",
    "x x x o o  \n",
    "x x x x o  \n",
    "x x x x x "
   ]
  },
  {
   "cell_type": "code",
   "execution_count": 8,
   "metadata": {},
   "outputs": [
    {
     "name": "stdout",
     "output_type": "stream",
     "text": [
      "x o o o o \n",
      "x x o o o \n",
      "x x x o o \n",
      "x x x x o \n",
      "x x x x x \n",
      "\n"
     ]
    }
   ],
   "source": [
    "def my_func(n: int) -> str:\n",
    "    print_string = \"\"\n",
    "    for i in range(n):\n",
    "        print_string += \"x \" * (i + 1) + \"o \" * (n - (i + 1)) + \"\\n\"\n",
    "    print(print_string)\n",
    "\n",
    "my_func(5)"
   ]
  },
  {
   "cell_type": "markdown",
   "metadata": {},
   "source": [
    "## Uppgift 4\n",
    "Läs in en textfil som heter bamba.txt och innehåller:\n",
    "\n",
    "v42 \n",
    "Chili sin carne  \n",
    "Pannkakor \n",
    "Ärtsoppa \n",
    "Kebab \n",
    "Vegetarisk lasagne\n",
    "\n",
    "Skriv därefter ut dem med korresponderande dagar.\n",
    "\n",
    "v42 \n",
    "Mån: Chili sin carne  \n",
    "Tis: Pannkakor \n",
    "Ons: Ärtsoppa \n",
    "Tor: Kebab \n",
    "Fre: Vegetarisk lasagne"
   ]
  },
  {
   "cell_type": "code",
   "execution_count": 4,
   "metadata": {},
   "outputs": [
    {
     "name": "stdout",
     "output_type": "stream",
     "text": [
      "['v42 \\n', 'Chili sin carne  \\n', 'Pannkakor \\n', 'Ã„rtsoppa \\n', 'Kebab \\n', 'Vegetarisk lasagne']\n",
      "v42 \n",
      "Mån: Chili sin carne  \n",
      "Tis: Pannkakor \n",
      "Ons: Ã„rtsoppa \n",
      "Tor: Kebab \n",
      "Fre: Vegetarisk lasagne"
     ]
    }
   ],
   "source": [
    "with open(\"bamba.txt\", \"r\") as f:\n",
    "    meny = f.readlines()\n",
    "print(meny)\n",
    "veckodagar = [\"Mån\", \"Tis\", \"Ons\", \"Tor\", \"Fre\"]\n",
    "\n",
    "for index, (dag, mat) in enumerate(zip(veckodagar, meny)):\n",
    "    meny[index+1] = veckodagar[index] + \": \" + meny[index+1]\n",
    "\n",
    "for mat in meny:\n",
    "    print(mat, end = \"\")"
   ]
  },
  {
   "cell_type": "markdown",
   "metadata": {},
   "source": [
    "## snyggast lösning"
   ]
  },
  {
   "cell_type": "code",
   "execution_count": 6,
   "metadata": {},
   "outputs": [
    {
     "name": "stdout",
     "output_type": "stream",
     "text": [
      " v42 \n",
      "mån Chili sin carne  \n",
      "tis Pannkakor \n",
      "ons Ã„rtsoppa \n",
      "tors Kebab \n",
      "fre Vegetarisk lasagne"
     ]
    }
   ],
   "source": [
    "with open (\"../Tenta_repetition/bamba.txt\", \"r\") as f:\n",
    "    lines = f.readlines()\n",
    "    \n",
    "weekdays = [\"\",\"mån\", \"tis\", \"ons\", \"tors\", \"fre\"]\n",
    "both = [weekdays, lines]\n",
    "\n",
    "for i in zip(*both):    \n",
    "    print(*i, end=\"\")"
   ]
  },
  {
   "cell_type": "code",
   "execution_count": 7,
   "metadata": {},
   "outputs": [
    {
     "name": "stdout",
     "output_type": "stream",
     "text": [
      " v42 \n",
      "mån Chili sin carne  \n",
      "tis Pannkakor \n",
      "ons Ã„rtsoppa \n",
      "tors Kebab \n",
      "fre Vegetarisk lasagne"
     ]
    }
   ],
   "source": [
    "with open (\"../Tenta_repetition/bamba.txt\", \"r\") as f:\n",
    "    lines = f.readlines()\n",
    "    \n",
    "weekdays = [\"\",\"mån\", \"tis\", \"ons\", \"tors\", \"fre\"]\n",
    "both = [weekdays, lines]\n",
    "\n",
    "for i in zip(weekdays, lines):    \n",
    "    print(*i, end=\"\")"
   ]
  },
  {
   "cell_type": "code",
   "execution_count": null,
   "metadata": {},
   "outputs": [],
   "source": [
    "class Animal:\n",
    "    def __init__(self, name):\n",
    "        self.name = name\n",
    "    def __str__(self):\n",
    "        return f\"Animal {self.name}\"\n",
    "\n",
    "class Dog(Animal):\n",
    "    # notera att __init__ är nedärvd\n",
    "    def __repr__(self):\n",
    "        return f\"Dog: {self.name}\"\n",
    "\n",
    "class Fish(Animal):\n",
    "    def __repr__(self):\n",
    "        return f\"Fish: {self.name}\"\n",
    "\n",
    "#TODO: implementera PetOwner\n",
    "class PetOwner:\n",
    "    def __init__(self, name: str, dogs: list = None, fishes: list = None): # måste vara none så ifall vi inte alltid har dogs, fishes\n",
    "        self.name = name\n",
    "        self.dogs = dogs\n",
    "        self.fishes = fishes\n",
    "    \n",
    "    @property\n",
    "    def name(self):\n",
    "        return self._name\n",
    "\n",
    "    @name.setter\n",
    "    def name(self, value):\n",
    "        # TODO only allow strings with a value\n",
    "        self._name = value\n",
    "    \n",
    "    @property\n",
    "    def dogs(self):\n",
    "        return self._dogs\n",
    "\n",
    "    @dogs.setter\n",
    "    def dogs(self, dog_names):\n",
    "        if \n",
    "        if type(dog_names) == None:\n",
    "            raise TypeError # message\n",
    "\n",
    "        temp_list = []\n",
    "        for name in dog_names:\n",
    "            if type(name) != str:\n",
    "                raise TypeError # message\n",
    "            if name.strip() == \"\":\n",
    "                raise ValueError # message\n",
    "            temp_list.append(Dog(name))\n",
    "        self._dogs = temp_list\n",
    "\n",
    "    @property\n",
    "    def fishes(self):\n",
    "        return self._fishes\n",
    "\n",
    "    @fishes.setter\n",
    "    def fishes(self, fish_names):\n",
    "        if type(fish_names) != list:\n",
    "            raise TypeError # message\n",
    "\n",
    "        temp_list = []\n",
    "        for name in fish_names:\n",
    "            if type(name) != str:\n",
    "                raise TypeError # message\n",
    "            if name.strip() == \"\":\n",
    "                raise ValueError # message\n",
    "            temp_list.append(Fish(name))\n",
    "        self._fishes = temp_list\n",
    "\n",
    "    def __str__(self):\n",
    "        print_string = f\"{self.name} owns:\"\n",
    "        print_string += f\"\\n{self.dogs}\"\n",
    "        print_string += f\"\\n{self.fishes}\"\n",
    "\n",
    "\n",
    "\n",
    "\n",
    "owner1 = PetOwner(\"Ada\",[\"Snoopy\", \"Pluto\"], [\"Fishy\", \"Buppy\"])\n",
    "owner2 = PetOwner(\"Beda\", [\"Barkly\"] )\n",
    "\n",
    "print(owner1)\n",
    "print(owner2)"
   ]
  }
 ],
 "metadata": {
  "kernelspec": {
   "display_name": "Python 3.9.13 64-bit",
   "language": "python",
   "name": "python3"
  },
  "language_info": {
   "codemirror_mode": {
    "name": "ipython",
    "version": 3
   },
   "file_extension": ".py",
   "mimetype": "text/x-python",
   "name": "python",
   "nbconvert_exporter": "python",
   "pygments_lexer": "ipython3",
   "version": "3.9.13"
  },
  "orig_nbformat": 4,
  "vscode": {
   "interpreter": {
    "hash": "085c51388782ab7dcc7b32a500f9634129d1cddb82cd7a37058a5984251a0bc1"
   }
  }
 },
 "nbformat": 4,
 "nbformat_minor": 2
}
