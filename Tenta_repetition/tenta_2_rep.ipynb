{
 "cells": [
  {
   "cell_type": "code",
   "execution_count": 4,
   "metadata": {},
   "outputs": [
    {
     "name": "stdout",
     "output_type": "stream",
     "text": [
      "['v42 \\n', 'Chili sin carne  \\n', 'Pannkakor \\n', 'Ã„rtsoppa \\n', 'Kebab \\n', 'Vegetarisk lasagne']\n",
      "v42 \n",
      "Mån: Chili sin carne  \n",
      "Tis: Pannkakor \n",
      "Ons: Ã„rtsoppa \n",
      "Tor: Kebab \n",
      "Fre: Vegetarisk lasagne"
     ]
    }
   ],
   "source": [
    "with open(\"bamba.txt\", \"r\") as f:\n",
    "    meny = f.readlines()\n",
    "print(meny)\n",
    "veckodagar = [\"Mån\", \"Tis\", \"Ons\", \"Tor\", \"Fre\"]\n",
    "\n",
    "for index, (dag, mat) in enumerate(zip(veckodagar, meny)):\n",
    "    meny[index+1] = veckodagar[index] + \": \" + meny[index+1]\n",
    "\n",
    "for mat in meny:\n",
    "    print(mat, end = \"\")"
   ]
  },
  {
   "cell_type": "markdown",
   "metadata": {},
   "source": [
    "## snyggast lösning"
   ]
  },
  {
   "cell_type": "code",
   "execution_count": 6,
   "metadata": {},
   "outputs": [
    {
     "name": "stdout",
     "output_type": "stream",
     "text": [
      " v42 \n",
      "mån Chili sin carne  \n",
      "tis Pannkakor \n",
      "ons Ã„rtsoppa \n",
      "tors Kebab \n",
      "fre Vegetarisk lasagne"
     ]
    }
   ],
   "source": [
    "with open (\"../Tenta_repetition/bamba.txt\", \"r\") as f:\n",
    "    lines = f.readlines()\n",
    "    \n",
    "weekdays = [\"\",\"mån\", \"tis\", \"ons\", \"tors\", \"fre\"]\n",
    "both = [weekdays, lines]\n",
    "\n",
    "for i in zip(*both):    \n",
    "    print(*i, end=\"\")"
   ]
  },
  {
   "cell_type": "code",
   "execution_count": 7,
   "metadata": {},
   "outputs": [
    {
     "name": "stdout",
     "output_type": "stream",
     "text": [
      " v42 \n",
      "mån Chili sin carne  \n",
      "tis Pannkakor \n",
      "ons Ã„rtsoppa \n",
      "tors Kebab \n",
      "fre Vegetarisk lasagne"
     ]
    }
   ],
   "source": [
    "with open (\"../Tenta_repetition/bamba.txt\", \"r\") as f:\n",
    "    lines = f.readlines()\n",
    "    \n",
    "weekdays = [\"\",\"mån\", \"tis\", \"ons\", \"tors\", \"fre\"]\n",
    "both = [weekdays, lines]\n",
    "\n",
    "for i in zip(weekdays, lines):    \n",
    "    print(*i, end=\"\")"
   ]
  }
 ],
 "metadata": {
  "kernelspec": {
   "display_name": "Python 3.9.13 64-bit",
   "language": "python",
   "name": "python3"
  },
  "language_info": {
   "codemirror_mode": {
    "name": "ipython",
    "version": 3
   },
   "file_extension": ".py",
   "mimetype": "text/x-python",
   "name": "python",
   "nbconvert_exporter": "python",
   "pygments_lexer": "ipython3",
   "version": "3.9.13"
  },
  "orig_nbformat": 4,
  "vscode": {
   "interpreter": {
    "hash": "085c51388782ab7dcc7b32a500f9634129d1cddb82cd7a37058a5984251a0bc1"
   }
  }
 },
 "nbformat": 4,
 "nbformat_minor": 2
}
