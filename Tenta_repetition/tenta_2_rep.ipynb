{
 "cells": [
  {
   "cell_type": "markdown",
   "metadata": {},
   "source": [
    "## Uppgift 2 (3p)\n",
    "Skapa en funktion som tar in ett heltal n som parameter och skriver ut följande mönstret nedan.\n",
    "Exempel när n = 5:\n",
    "\n",
    "x o o o o  \n",
    "x x o o o  \n",
    "x x x o o  \n",
    "x x x x o  \n",
    "x x x x x "
   ]
  },
  {
   "cell_type": "code",
   "execution_count": 38,
   "metadata": {},
   "outputs": [
    {
     "name": "stdout",
     "output_type": "stream",
     "text": [
      "x o o o o \n",
      "x x o o o \n",
      "x x x o o \n",
      "x x x x o \n",
      "x x x x x \n",
      "\n"
     ]
    }
   ],
   "source": [
    "def my_func(n: int) -> str:\n",
    "    print_string = \"\"\n",
    "    for i in range(n):\n",
    "        print_string += \"x \" * (i + 1) + \"o \" * (n - (i + 1)) + \"\\n\"\n",
    "    print(print_string)\n",
    "\n",
    "my_func(5)"
   ]
  },
  {
   "cell_type": "code",
   "execution_count": 2,
   "metadata": {},
   "outputs": [
    {
     "name": "stdout",
     "output_type": "stream",
     "text": [
      "x o o o o o o \n",
      "x x o o o o o \n",
      "x x x o o o o \n",
      "x x x x o o o \n",
      "x x x x x o o \n",
      "x x x x x x o \n",
      "x x x x x x x \n",
      "\n"
     ]
    }
   ],
   "source": [
    "def my_func(n: int) -> str:\n",
    "    print_string = \"\"\n",
    "    for i in range(1,n+1):\n",
    "        print_string += \"x \" * i  + \"o \" * (n - i) + \"\\n\"\n",
    "    print(print_string)\n",
    "\n",
    "my_func(7) "
   ]
  },
  {
   "cell_type": "code",
   "execution_count": 13,
   "metadata": {},
   "outputs": [
    {
     "name": "stdout",
     "output_type": "stream",
     "text": [
      "x o o o o \n",
      "x x o o o \n",
      "x x x o o \n",
      "x x x x o \n",
      "x x x x x \n",
      "\n"
     ]
    }
   ],
   "source": [
    "def my_func(n):\n",
    "    string1 = \"\"\n",
    "    for i in range(1,n+1):\n",
    "        string1 += \"x \" * i + \"o \" * (n -(i)) + \"\\n\"\n",
    "    print(string1)\n",
    "\n",
    "my_func(5)"
   ]
  },
  {
   "cell_type": "markdown",
   "metadata": {},
   "source": [
    "\n",
    "# Uppgift 3 (3p)\n",
    "Skriv en funktion som tar in en radie och en höjd som inparametrar och som returnerar volymen av en\n",
    "cylinder. \n",
    "\n",
    "Volymen för en cylinder är: V = pi*r**2*h\n",
    "\n",
    "\n",
    "\n",
    "Låt användaren mata in en radie och en höjd och kör funktionen. Tänk på att ta med lämplig felhantering."
   ]
  },
  {
   "cell_type": "code",
   "execution_count": 48,
   "metadata": {},
   "outputs": [
    {
     "name": "stdout",
     "output_type": "stream",
     "text": [
      "12.566370614359172\n"
     ]
    }
   ],
   "source": [
    "from __future__ import annotations\n",
    "from math import pi\n",
    "\n",
    "def calc_cylinder_volume(radius: int | float, height: int | float) -> float:\n",
    "\t\"\"\"Calculates the volume of a cylinder, given radius & height\"\"\"\n",
    "\tif not isinstance (radius, (int, float)):\n",
    "\t\t\t# error handling type\n",
    "\t\traise TypeError(f\"Radius must be of int or float, not Radius({type(radius)})\")\n",
    "\tif not isinstance (height, (int,  float)):\n",
    "\t\traise TypeError(f\"Height must be of int or float, not Height({type(height)})\")\n",
    "\tif radius <= 0 and height <=0:\n",
    "\t# error handling value\n",
    "\t\traise ValueError(f\"Radius and Height must be positive, not Radius({radius}) or Height({height})\")\n",
    "\treturn (pi*radius**2*height)\n",
    "\n",
    "while True:\n",
    "\tuser_radius = input(\"Enter the radius: \")\n",
    "\ttry:\n",
    "\t\tuser_radius = float(user_radius)\n",
    "\texcept TypeError as err:\n",
    "\t\tprint(err)\n",
    "\texcept ValueError as err:\n",
    "\t\tprint(err)\n",
    "\tuser_height = input(\"Enter the height: \")\n",
    "\n",
    "\ttry:\n",
    "\t\tuser_height = float(user_height)\n",
    "\t\tcalc_cylinder_volume(user_radius, user_height)\n",
    "\t\tbreak\n",
    "\texcept TypeError as err:\n",
    "\t\tprint(err)\n",
    "\texcept ValueError as err:\n",
    "\t\tprint(err)\n",
    "\n",
    "\n",
    "print(calc_cylinder_volume(user_radius, user_height))"
   ]
  },
  {
   "cell_type": "markdown",
   "metadata": {},
   "source": [
    "## Uppgift 4\n",
    "Läs in en textfil som heter bamba.txt och innehåller:\n",
    "\n",
    "v42 \n",
    "Chili sin carne  \n",
    "Pannkakor \n",
    "Ärtsoppa \n",
    "Kebab \n",
    "Vegetarisk lasagne\n",
    "\n",
    "Skriv därefter ut dem med korresponderande dagar.\n",
    "\n",
    "v42 \n",
    "Mån: Chili sin carne  \n",
    "Tis: Pannkakor \n",
    "Ons: Ärtsoppa \n",
    "Tor: Kebab \n",
    "Fre: Vegetarisk lasagne"
   ]
  },
  {
   "cell_type": "code",
   "execution_count": null,
   "metadata": {},
   "outputs": [
    {
     "name": "stdout",
     "output_type": "stream",
     "text": [
      "['v42 \\n', 'Chili sin carne  \\n', 'Pannkakor \\n', 'Ã„rtsoppa \\n', 'Kebab \\n', 'Vegetarisk lasagne']\n",
      "v42 \n",
      "Mån: Chili sin carne  \n",
      "Tis: Pannkakor \n",
      "Ons: Ã„rtsoppa \n",
      "Tor: Kebab \n",
      "Fre: Vegetarisk lasagne"
     ]
    }
   ],
   "source": [
    "with open(\"bamba.txt\", \"r\") as f:\n",
    "    meny = f.readlines()\n",
    "print(meny)\n",
    "veckodagar = [\"Mån\", \"Tis\", \"Ons\", \"Tor\", \"Fre\"]\n",
    "\n",
    "for index, (dag, mat) in enumerate(zip(veckodagar, meny)):\n",
    "    meny[index+1] = veckodagar[index] + \": \" + meny[index+1]\n",
    "\n",
    "for mat in meny:\n",
    "    print(mat, end = \"\")"
   ]
  },
  {
   "cell_type": "markdown",
   "metadata": {},
   "source": [
    "## snyggast lösning"
   ]
  },
  {
   "cell_type": "code",
   "execution_count": 58,
   "metadata": {},
   "outputs": [
    {
     "name": "stdout",
     "output_type": "stream",
     "text": [
      " v42 \n",
      "mån Chili sin carne  \n",
      "tis Pannkakor \n",
      "ons Ã„rtsoppa \n",
      "tors Kebab \n",
      "fre Vegetarisk lasagne"
     ]
    }
   ],
   "source": [
    "with open (\"../Tenta_repetition/bamba.txt\", \"r\") as f:\n",
    "    lines = f.readlines()\n",
    "    \n",
    "weekdays = [\"\",\"mån\", \"tis\", \"ons\", \"tors\", \"fre\"]\n",
    "both = [weekdays, lines]\n",
    "\n",
    "for i in zip(*both):    \n",
    "    print(*i, end=\"\")"
   ]
  },
  {
   "cell_type": "code",
   "execution_count": 6,
   "metadata": {},
   "outputs": [
    {
     "name": "stdout",
     "output_type": "stream",
     "text": [
      " v42 \n",
      "mån Chili sin carne  \n",
      "tis Pannkakor \n",
      "ons Ã„rtsoppa \n",
      "tors Kebab \n",
      "fre Vegetarisk lasagne"
     ]
    }
   ],
   "source": [
    "with open (\"../Tenta_repetition/bamba.txt\", \"r\") as f:\n",
    "    lines = f.readlines()\n",
    "    \n",
    "weekdays = [\"\",\"mån\", \"tis\", \"ons\", \"tors\", \"fre\"]\n",
    "both = [weekdays, lines]\n",
    "\n",
    "for i in zip(weekdays, lines):    \n",
    "    print(*i, end=\"\")"
   ]
  },
  {
   "cell_type": "code",
   "execution_count": 59,
   "metadata": {},
   "outputs": [
    {
     "name": "stdout",
     "output_type": "stream",
     "text": [
      " v42 \n",
      "Mån Chili sin carne  \n",
      "Tis Pannkakor \n",
      "Ons Ã„rtsoppa \n",
      "Tors Kebab \n",
      "Fre Vegetarisk lasagne"
     ]
    }
   ],
   "source": [
    "with open(\"../Tenta_repetition/bamba.txt\", \"r\") as f:\n",
    "\tlines = f.readlines()\n",
    "\n",
    "weekdays = [\"\", \"Mån\", \"Tis\", \"Ons\", \"Tors\", \"Fre\"]\n",
    "\n",
    "for i in zip(weekdays, lines):\n",
    "\tprint(*i, end=\"\")"
   ]
  },
  {
   "cell_type": "code",
   "execution_count": 16,
   "metadata": {},
   "outputs": [
    {
     "name": "stdout",
     "output_type": "stream",
     "text": [
      "Tusenlapp: 3\n",
      "Tvåhundralapp: 1\n",
      "Tiokrona: 1\n",
      "Enkrona: 4\n"
     ]
    }
   ],
   "source": [
    "def change():\n",
    "    pengar = int(input(\"Ange ett heltal\"))\n",
    "    enkronor = pengar % 10\n",
    "    tiokronor = (pengar % 200 - enkronor)//10\n",
    "    tvahundralappar = (pengar % 1000 - tiokronor - enkronor)//200\n",
    "    tusenlappar = (pengar - tvahundralappar - tiokronor - enkronor)//1000\n",
    "    if pengar > 1000:\n",
    "        print(f\"Tusenlapp: {tusenlappar}\")\n",
    "    if pengar > 200:\n",
    "        print(f\"Tvåhundralapp: {tvahundralappar}\")\n",
    "    if pengar > 10:\n",
    "        print(f\"Tiokrona: {tiokronor}\")\n",
    "    print(f\"Enkrona: {enkronor}\")\n",
    "change()"
   ]
  },
  {
   "cell_type": "markdown",
   "metadata": {},
   "source": [
    "## Uppgift 6 (4p)\n",
    "Du har följande kod:"
   ]
  },
  {
   "cell_type": "code",
   "execution_count": null,
   "metadata": {},
   "outputs": [],
   "source": [
    "class PetOwner:\n",
    "    def __init__(self, name: str, dogs: list = [], fishes: list = []):\n",
    "        self.name = name\n",
    "        self.dogs = dogs\n",
    "        self.fishes = fishes\n",
    "    \n",
    "    @property\n",
    "    def name(self):\n",
    "        return self._name\n",
    "\n",
    "    @name.setter\n",
    "    def name(self, name):\n",
    "        if type(name) != str:\n",
    "            raise TypeError(f\"Name must be a string, not {type(name).__name__}\")\n",
    "        if name.strip() == \"\":\n",
    "            raise ValueError(f\"Name must contain letters, \\\"{name}\\\" not accepted\")\n",
    "        self._name = name\n",
    "\n",
    "    @property\n",
    "    def dogs(self):\n",
    "        return self._dogs\n",
    "\n",
    "    @dogs.setter\n",
    "    def dogs(self, dog_names):\n",
    "        # ----- error handling for dog name list -----\n",
    "        if type(dog_names) != list:\n",
    "            raise TypeError(f\"Dogs must be a list of dog names, not {type(dog_names).__name__}\")\n",
    "        temp_list = [] # creating temp list to store dogs in\n",
    "        for name in dog_names:\n",
    "            # ----- error handling for names in list -----\n",
    "            if type(name) != str:\n",
    "                raise TypeError(f\"Names must be a string, not {type(name).__name__} (\\\"{name}\\\")\")\n",
    "            if name.strip() == \"\":\n",
    "                raise ValueError(f\"Names must contain letters, \\\"{name}\\\" not accepted\")\n",
    "            temp_list.append(Dog(name)) # add Dog with name {name} to temp list\n",
    "        self._dogs = temp_list # set dogs to created list of dogs\n",
    "\n",
    "    @property\n",
    "    def fishes(self):\n",
    "        return self._fishes\n",
    "\n",
    "    @fishes.setter\n",
    "    def fishes(self, fish_names):\n",
    "        # ----- error handling for fish name list -----\n",
    "        if type(fish_names) != list:\n",
    "            raise TypeError(f\"Fishes must be a list of fish names, not {type(fish_names).__name__}\")\n",
    "        temp_list = [] # creating temp list to store fishes in\n",
    "        for name in fish_names:\n",
    "            # ----- error handling for names in list -----\n",
    "            if type(name) != str:\n",
    "                raise TypeError(f\"Names must be a string, not {type(name).__name__} (\\\"{name}\\\")\")\n",
    "            if name.strip() == \"\":\n",
    "                raise ValueError(f\"Names must contain letters, \\\"{name}\\\" not accepted\")\n",
    "            temp_list.append(Fish(name)) # add Fish with name {name} to temp list\n",
    "        self._fishes = temp_list # set fishes to created list of fishes\n",
    "    def __str__(self):\n",
    "            print_string = f\"{self.name} owns:\"\n",
    "            if self.dogs != []: # if owner has at least one dog\n",
    "                print_string += f\"\\n{self.dogs}\"\n",
    "            if self.fishes != []: # if owner has at least one fish\n",
    "                print_string += f\"\\n{self.fishes}\"\n",
    "            return print_string\n",
    "\n",
    "owner1 = PetOwner(\"Ada\",[\"Snoopy\", \"Pluto\"], [\"Fishy\", \"Buppy\"])\n",
    "owner2 = PetOwner(\"Beda\", [\"Barkly\"] )\n",
    "print(owner1)\n",
    "print(owner2)"
   ]
  }
 ],
 "metadata": {
  "kernelspec": {
   "display_name": "Python 3.9.13 ('Python-Jonas-Bengtstrom-wbW5Yh3F')",
   "language": "python",
   "name": "python3"
  },
  "language_info": {
   "codemirror_mode": {
    "name": "ipython",
    "version": 3
   },
   "file_extension": ".py",
   "mimetype": "text/x-python",
   "name": "python",
   "nbconvert_exporter": "python",
   "pygments_lexer": "ipython3",
   "version": "3.9.13"
  },
  "orig_nbformat": 4,
  "vscode": {
   "interpreter": {
    "hash": "688e18696179dfa8cf5fc9f998467e10e34a82e616e395cc61c35dd60ca291fc"
   }
  }
 },
 "nbformat": 4,
 "nbformat_minor": 2
}
