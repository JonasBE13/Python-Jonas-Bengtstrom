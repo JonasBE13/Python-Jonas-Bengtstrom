{
 "cells": [
  {
   "cell_type": "markdown",
   "metadata": {},
   "source": [
    "## Exercise session 2"
   ]
  },
  {
   "cell_type": "markdown",
   "metadata": {},
   "source": [
    "## Rice on chessboard, 03-06\n",
    "\n",
    "\n",
    "$$s = \\sum_{i=0}^{63} 2^i = 2^0 + 2^1\\ldots + 2^{63}$$"
   ]
  },
  {
   "cell_type": "code",
   "execution_count": 2,
   "metadata": {},
   "outputs": [
    {
     "name": "stdout",
     "output_type": "stream",
     "text": [
      "18446744073709551615\n"
     ]
    }
   ],
   "source": [
    "my_sum = 0\n",
    "rice = 1\n",
    "\n",
    "for i in range(64):\n",
    "    my_sum += rice\n",
    "    rice *= 2\n",
    "print(f\"{my_sum}\")\n"
   ]
  },
  {
   "cell_type": "code",
   "execution_count": 3,
   "metadata": {},
   "outputs": [
    {
     "name": "stdout",
     "output_type": "stream",
     "text": [
      "18446744073709551615\n"
     ]
    }
   ],
   "source": [
    "my_sum = 0\n",
    "\n",
    "\n",
    "for i in range(64):\n",
    "    my_sum += 2**i\n",
    "\n",
    "print(f\"{my_sum}\")"
   ]
  },
  {
   "cell_type": "code",
   "execution_count": null,
   "metadata": {},
   "outputs": [],
   "source": [
    "rice_production = 755.5e9 # kg\n",
    "# hur många riskorn finns i ett kg?\n"
   ]
  }
 ],
 "metadata": {
  "kernelspec": {
   "display_name": "Python 3.9.13 ('Python-Jonas-Bengtstrom-9S9shp4H')",
   "language": "python",
   "name": "python3"
  },
  "language_info": {
   "codemirror_mode": {
    "name": "ipython",
    "version": 3
   },
   "file_extension": ".py",
   "mimetype": "text/x-python",
   "name": "python",
   "nbconvert_exporter": "python",
   "pygments_lexer": "ipython3",
   "version": "3.9.13"
  },
  "orig_nbformat": 4,
  "vscode": {
   "interpreter": {
    "hash": "3be68742c16efe966197c8d096961fddba4647d994ea7cd07d1be7ea704d2a8e"
   }
  }
 },
 "nbformat": 4,
 "nbformat_minor": 2
}
