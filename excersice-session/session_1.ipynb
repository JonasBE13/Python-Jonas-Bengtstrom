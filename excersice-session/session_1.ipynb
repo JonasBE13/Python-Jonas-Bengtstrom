{
 "cells": [
  {
   "cell_type": "markdown",
   "metadata": {},
   "source": [
    "## Exercise session 1"
   ]
  },
  {
   "cell_type": "markdown",
   "metadata": {},
   "source": [
    "## Exercise 00-3\n",
    "\n",
    "Formula: \n",
    "$$ accuracy = \\frac{TP + TN}{TP+TN+FP+FN}$$"
   ]
  },
  {
   "cell_type": "code",
   "execution_count": 1,
   "metadata": {},
   "outputs": [
    {
     "name": "stdout",
     "output_type": "stream",
     "text": [
      "Accuracy of this firemodel: 0.987\n"
     ]
    }
   ],
   "source": [
    "# Exercise 00-3\n",
    "\n",
    "\n",
    "true_positive = 2\n",
    "false_positive = 2\n",
    "false_negative = 11\n",
    "true_negative = 985\n",
    "\n",
    "accuracy = (true_positive+true_negative)/(true_positive+true_negative+false_positive+false_negative)\n",
    "\n",
    "print(f\"Accuracy of this fire model: {accuracy}\")\n",
    "\n",
    "# is this a good model?\n",
    "# this is not a good model, concerning the amount of false negatives. A fire is raging and we have no idea with this model."
   ]
  },
  {
   "cell_type": "markdown",
   "metadata": {},
   "source": [
    "## Exercise 00-5\n",
    "\n",
    "Formula\n",
    "$$ d = \\sqrt{(x_1-x_2)^2+(y_1-y_2^2)}$$\n"
   ]
  },
  {
   "cell_type": "code",
   "execution_count": 5,
   "metadata": {},
   "outputs": [
    {
     "name": "stdout",
     "output_type": "stream",
     "text": [
      "Distance between point [3, 5] and [-2, 4] is 5.10 distance units\n"
     ]
    }
   ],
   "source": [
    "import math\n",
    "point1 = [3,5]\n",
    "point2 = [-2,4]\n",
    "\n",
    "distance = math.sqrt((point1[0]-point2[0])**2 + (point1[1]-point2[1])**2)\n",
    "print(f\"Distance between point {point1} and {point2} is {distance:.2f} distance units\")\n"
   ]
  }
 ],
 "metadata": {
  "kernelspec": {
   "display_name": "Python 3.9.13 ('Python-Jonas-Bengtstrom-9S9shp4H')",
   "language": "python",
   "name": "python3"
  },
  "language_info": {
   "codemirror_mode": {
    "name": "ipython",
    "version": 3
   },
   "file_extension": ".py",
   "mimetype": "text/x-python",
   "name": "python",
   "nbconvert_exporter": "python",
   "pygments_lexer": "ipython3",
   "version": "3.9.13"
  },
  "orig_nbformat": 4,
  "vscode": {
   "interpreter": {
    "hash": "3be68742c16efe966197c8d096961fddba4647d994ea7cd07d1be7ea704d2a8e"
   }
  }
 },
 "nbformat": 4,
 "nbformat_minor": 2
}
