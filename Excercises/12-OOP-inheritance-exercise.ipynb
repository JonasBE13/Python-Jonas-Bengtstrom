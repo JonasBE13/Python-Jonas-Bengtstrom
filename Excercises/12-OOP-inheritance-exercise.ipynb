{
 "cells": [
  {
   "cell_type": "markdown",
   "metadata": {},
   "source": [
    "# 2. Fraction (**)\n",
    "- Create a class called Frac to represent mathematical fractions. The class is instantiated with two instance variables: nominator and denominator. Objects instantiated from this class should have methods for addition, subtraction, multiplication, division using the operators +,-,*,/. Note that these implemented methods must be mathematically correct. Also implement the following methods:\n",
    "\n",
    "\n",
    "- simplify(self, value = None) # simplifies to most simple form unless value is given \n",
    "\n",
    "- __str__(self) # represent the fraction in a neat way for printing\n",
    "\n",
    "- mixed(self) # represent the fraction in mixed terms \n",
    "\n",
    "- __eq__(self, other) # checks equality by overloading ==\n",
    "- Also remember to handle errors and validations.\n",
    "\n",
    "- Example of tests that it should handled:\n",
    "\n",
    "- 1/2 + 1/3 = 5/6\n",
    "- 1/2 - 1/3 = 1/6\n",
    "- 7/6 --> 1 1/6 (mixed)\n",
    "- 3*1/2 = 3/2\n",
    "- 1/2 * 3 = 3/2\n",
    "- 1/4 + 2 = 9/4\n",
    "- 1/4 / 1/2 = 1/2\n",
    "- 2/4 == 1/2 --> True\n",
    "- 3/4 += 2 = 11/4"
   ]
  },
  {
   "cell_type": "code",
   "execution_count": 3,
   "metadata": {},
   "outputs": [
    {
     "name": "stdout",
     "output_type": "stream",
     "text": [
      " 1 1/6\n"
     ]
    },
    {
     "ename": "TypeError",
     "evalue": "unsupported operand type(s) for +: 'Frac' and 'Frac'",
     "output_type": "error",
     "traceback": [
      "\u001b[1;31m---------------------------------------------------------------------------\u001b[0m",
      "\u001b[1;31mTypeError\u001b[0m                                 Traceback (most recent call last)",
      "Cell \u001b[1;32mIn [3], line 39\u001b[0m\n\u001b[0;32m     36\u001b[0m zz \u001b[38;5;241m=\u001b[39m Frac(\u001b[38;5;241m7\u001b[39m,\u001b[38;5;241m6\u001b[39m)\n\u001b[0;32m     37\u001b[0m zz\u001b[38;5;241m.\u001b[39mmixed()\n\u001b[1;32m---> 39\u001b[0m x \u001b[38;5;241m=\u001b[39m \u001b[43mFrac\u001b[49m\u001b[43m(\u001b[49m\u001b[38;5;241;43m1\u001b[39;49m\u001b[43m,\u001b[49m\u001b[38;5;241;43m3\u001b[39;49m\u001b[43m)\u001b[49m\u001b[43m \u001b[49m\u001b[38;5;241;43m+\u001b[39;49m\u001b[43m \u001b[49m\u001b[43mFrac\u001b[49m\u001b[43m(\u001b[49m\u001b[38;5;241;43m1\u001b[39;49m\u001b[43m,\u001b[49m\u001b[38;5;241;43m2\u001b[39;49m\u001b[43m)\u001b[49m\n\u001b[0;32m     40\u001b[0m \u001b[38;5;28mprint\u001b[39m(x)\n",
      "\u001b[1;31mTypeError\u001b[0m: unsupported operand type(s) for +: 'Frac' and 'Frac'"
     ]
    }
   ],
   "source": [
    "class Frac:\n",
    "    def __init__(self, nominator, denominator) -> None:\n",
    "        self.nominator = nominator\n",
    "        self.denominator = denominator\n",
    "    \n",
    "    # getter. nominator = täljare\n",
    "    @property\n",
    "    def nominator(self) -> float:\n",
    "        \"\"\"This is the nominator\"\"\"\n",
    "        return self._nominator\n",
    "\n",
    "    # setter nominator = täljare\n",
    "    @nominator.setter\n",
    "    def nominator(self, nominator: float):\n",
    "        self._nominator = nominator\n",
    "\n",
    "\n",
    "    @property\n",
    "    def denominator(self) -> float:\n",
    "        \"\"\"This is the denominator\"\"\"\n",
    "        return self._denominator\n",
    "\n",
    "    @denominator.setter\n",
    "    def denominator(self, denominator: float):\n",
    "        self._denominator = denominator \n",
    "\n",
    "\n",
    "    #def simplfiy(self, value = None):\n",
    "\n",
    "    def mixed(self):\n",
    "        print(f\" 1 {self.nominator - self.denominator}/{self.denominator}\") # ej skalbar atm\n",
    "\n",
    "    #def __add__(self, )\n",
    "\n",
    "\n",
    "zz = Frac(7,6)\n",
    "zz.mixed()\n",
    "\n",
    "x = Frac(1,3) + Frac(1,2)\n",
    "print(x)\n",
    "    \n",
    "    "
   ]
  }
 ],
 "metadata": {
  "kernelspec": {
   "display_name": "Python 3.9.13 ('Python-Jonas-Bengtstrom-9S9shp4H')",
   "language": "python",
   "name": "python3"
  },
  "language_info": {
   "codemirror_mode": {
    "name": "ipython",
    "version": 3
   },
   "file_extension": ".py",
   "mimetype": "text/x-python",
   "name": "python",
   "nbconvert_exporter": "python",
   "pygments_lexer": "ipython3",
   "version": "3.9.13"
  },
  "orig_nbformat": 4,
  "vscode": {
   "interpreter": {
    "hash": "3be68742c16efe966197c8d096961fddba4647d994ea7cd07d1be7ea704d2a8e"
   }
  }
 },
 "nbformat": 4,
 "nbformat_minor": 2
}
