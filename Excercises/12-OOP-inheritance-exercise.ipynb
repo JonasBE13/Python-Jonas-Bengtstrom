{
 "cells": [
  {
   "cell_type": "markdown",
   "metadata": {},
   "source": [
    "2. Fraction (**)\n",
    "Create a class called Frac to represent mathematical fractions. The class is instantiated with two instance variables: nominator and denominator. Objects instantiated from this class should have methods for addition, subtraction, multiplication, division using the operators +,-,*,/. Note that these implemented methods must be mathematically correct. Also implement the following methods:\n",
    "\n",
    "\n",
    "simplify(self, value = None) # simplifies to most simple form unless value is given \n",
    "\n",
    "__str__(self) # represent the fraction in a neat way for printing\n",
    "\n",
    "mixed(self) # represent the fraction in mixed terms \n",
    "\n",
    "__eq__(self, other) # checks equality by overloading ==\n",
    "Also remember to handle errors and validations.\n",
    "\n",
    "Example of tests that it should handled:\n",
    "\n",
    "1/2 + 1/3 = 5/6\n",
    "1/2 - 1/3 = 1/6\n",
    "7/6 --> 1 1/6 (mixed)\n",
    "3*1/2 = 3/2\n",
    "1/2 * 3 = 3/2\n",
    "1/4 + 2 = 9/4\n",
    "1/4 / 1/2 = 1/2\n",
    "2/4 == 1/2 --> True\n",
    "3/4 += 2 = 11/4"
   ]
  },
  {
   "cell_type": "code",
   "execution_count": null,
   "metadata": {},
   "outputs": [],
   "source": []
  }
 ],
 "metadata": {
  "kernelspec": {
   "display_name": "Python 3.9.13 64-bit",
   "language": "python",
   "name": "python3"
  },
  "language_info": {
   "name": "python",
   "version": "3.9.13"
  },
  "orig_nbformat": 4,
  "vscode": {
   "interpreter": {
    "hash": "085c51388782ab7dcc7b32a500f9634129d1cddb82cd7a37058a5984251a0bc1"
   }
  }
 },
 "nbformat": 4,
 "nbformat_minor": 2
}
