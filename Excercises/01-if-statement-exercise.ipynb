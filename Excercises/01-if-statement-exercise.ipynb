{
 "cells": [
  {
   "cell_type": "markdown",
   "metadata": {},
   "source": [
    "## Check sign\n",
    "- Ask the user to input a number adn check if this number is positive, negative or zero and print it out"
   ]
  },
  {
   "cell_type": "code",
   "execution_count": 6,
   "metadata": {},
   "outputs": [
    {
     "name": "stdout",
     "output_type": "stream",
     "text": [
      "The -3 you have entered is negative.\n"
     ]
    }
   ],
   "source": [
    "number = float(input(\"Write a number. This program will check if the number is postive, negative or zero.\"))\n",
    "if number > 0:\n",
    "    print(f\"The {number:.0f} you have entered is positive.\")\n",
    "if number < 0:\n",
    "    print(f\"The {number:.0f} you have entered is negative.\")\n",
    "if number == 0:\n",
    "    print(f\"The {number:.0f} you have entered is zero.\")\n"
   ]
  },
  {
   "cell_type": "markdown",
   "metadata": {},
   "source": [
    "## 2 Smallest\n",
    "- Ask the user to input two numbers and check which one is the smallest and print it out.\n"
   ]
  },
  {
   "cell_type": "code",
   "execution_count": 10,
   "metadata": {},
   "outputs": [
    {
     "name": "stdout",
     "output_type": "stream",
     "text": [
      "4.0\n"
     ]
    }
   ],
   "source": [
    "number1 = float(input(\"Input the 1st number\"))\n",
    "number2 = float(input(\"Input the 2nd number\"))\n",
    "\n",
    "if number1 > number2:\n",
    "    print(f\"{number2}\")\n",
    "else:\n",
    "    print(f\"{number1}\")\n"
   ]
  },
  {
   "cell_type": "markdown",
   "metadata": {},
   "source": [
    "## 3 Right angle\n",
    "- Ask the user to input three angles and check if the triangle has a right angle. Your code should make sure that all three angles are valid and make up a triangle."
   ]
  },
  {
   "cell_type": "code",
   "execution_count": 22,
   "metadata": {},
   "outputs": [
    {
     "name": "stdout",
     "output_type": "stream",
     "text": [
      "Full triangle.\n",
      "Angle 2 is a right angle.\n"
     ]
    }
   ],
   "source": [
    "triangle1 = float(input(\"Input the 1st angle\"))\n",
    "triangle2 = float(input(\"Input the 2nd angle\"))\n",
    "triangle3 = float(input(\"Input the 3rd angle\"))\n",
    "\n",
    "if triangle1 + triangle2 + triangle3 == 180:\n",
    "    print(\"Full triangle.\")\n",
    "    if triangle1 == 90:\n",
    "        print(\"Angle 1 is a right angle.\")\n",
    "    if triangle2 == 90:\n",
    "        print(\"Angle 2 is a right angle.\")\n",
    "    if triangle3 == 90:\n",
    "        print(\"Angle 3 is a right angle.\")\n",
    "else:\n",
    "    print(\"These values are not accepted for a triangle. Angles combied must be 180 degrees.\")\n"
   ]
  },
  {
   "cell_type": "code",
   "execution_count": null,
   "metadata": {},
   "outputs": [],
   "source": []
  }
 ],
 "metadata": {
  "kernelspec": {
   "display_name": "Python 3.9.13 ('Python-Jonas-Bengtstrom-9S9shp4H')",
   "language": "python",
   "name": "python3"
  },
  "language_info": {
   "codemirror_mode": {
    "name": "ipython",
    "version": 3
   },
   "file_extension": ".py",
   "mimetype": "text/x-python",
   "name": "python",
   "nbconvert_exporter": "python",
   "pygments_lexer": "ipython3",
   "version": "3.9.13"
  },
  "orig_nbformat": 4,
  "vscode": {
   "interpreter": {
    "hash": "3be68742c16efe966197c8d096961fddba4647d994ea7cd07d1be7ea704d2a8e"
   }
  }
 },
 "nbformat": 4,
 "nbformat_minor": 2
}
