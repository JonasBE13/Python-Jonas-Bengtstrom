{
 "cells": [
  {
   "cell_type": "markdown",
   "metadata": {},
   "source": [
    "## Check sign\n",
    "- Ask the user to input a number adn check if this number is positive, negative or zero and print it out"
   ]
  },
  {
   "cell_type": "code",
   "execution_count": 6,
   "metadata": {},
   "outputs": [
    {
     "name": "stdout",
     "output_type": "stream",
     "text": [
      "The -3 you have entered is negative.\n"
     ]
    }
   ],
   "source": [
    "number = float(input(\"Write a number. This program will check if the number is postive, negative or zero.\"))\n",
    "if number > 0:\n",
    "    print(f\"The {number:.0f} you have entered is positive.\")\n",
    "if number < 0:\n",
    "    print(f\"The {number:.0f} you have entered is negative.\")\n",
    "if number == 0:\n",
    "    print(f\"The {number:.0f} you have entered is zero.\")\n"
   ]
  },
  {
   "cell_type": "markdown",
   "metadata": {},
   "source": [
    "## 2 Smallest\n",
    "- Ask the user to input two numbers and check which one is the smallest and print it out.\n"
   ]
  },
  {
   "cell_type": "code",
   "execution_count": 10,
   "metadata": {},
   "outputs": [
    {
     "name": "stdout",
     "output_type": "stream",
     "text": [
      "4.0\n"
     ]
    }
   ],
   "source": [
    "number1 = float(input(\"Input the 1st number\"))\n",
    "number2 = float(input(\"Input the 2nd number\"))\n",
    "\n",
    "if number1 > number2:\n",
    "    print(f\"{number2}\")\n",
    "else:\n",
    "    print(f\"{number1}\")\n"
   ]
  },
  {
   "cell_type": "markdown",
   "metadata": {},
   "source": [
    "## 3 Right angle\n",
    "- Ask the user to input three angles and check if the triangle has a right angle. Your code should make sure that all three angles are valid and make up a triangle."
   ]
  },
  {
   "cell_type": "code",
   "execution_count": 22,
   "metadata": {},
   "outputs": [
    {
     "name": "stdout",
     "output_type": "stream",
     "text": [
      "Full triangle.\n",
      "Angle 2 is a right angle.\n"
     ]
    }
   ],
   "source": [
    "triangle1 = float(input(\"Input the 1st angle\"))\n",
    "triangle2 = float(input(\"Input the 2nd angle\"))\n",
    "triangle3 = float(input(\"Input the 3rd angle\"))\n",
    "\n",
    "if triangle1 + triangle2 + triangle3 == 180:\n",
    "    print(\"Full triangle.\")\n",
    "    if triangle1 == 90:\n",
    "        print(\"Angle 1 is a right angle.\")\n",
    "    if triangle2 == 90:\n",
    "        print(\"Angle 2 is a right angle.\")\n",
    "    if triangle3 == 90:\n",
    "        print(\"Angle 3 is a right angle.\")\n",
    "else:\n",
    "    print(\"These values are not accepted for a triangle. Angles combied must be 180 degrees.\")\n"
   ]
  },
  {
   "cell_type": "markdown",
   "metadata": {},
   "source": [
    "## 4 Medicine\n",
    "- The information in the following table is stated in a medicine package. Also it is stated that for children weight is more important than age.\n",
    "\n",
    "- Age\tNumber of pills\n",
    "- Adults & adolescent over 40 kg, over 12 years, 1-2\n",
    "- Children 26-40 kg,\t7-12 years,\t1/2-1\n",
    "- Children 15-25 kg,\t3-7 years,\t1/2"
   ]
  },
  {
   "cell_type": "code",
   "execution_count": 32,
   "metadata": {},
   "outputs": [
    {
     "name": "stdout",
     "output_type": "stream",
     "text": [
      "weight=20.0\n",
      "age=4.0\n",
      "Take 1/2 - 1 pills\n"
     ]
    }
   ],
   "source": [
    "weight = float(input(\"Enter patiens weight (kg): \"))    #convert input to float\n",
    "age = float(input(\"Enter age in full years: \"))\n",
    "print(f\"{weight=}\")\n",
    "print(f\"{age=}\")\n",
    "if weight > 40 and age >= 12:\n",
    "    print(\"Take 1-2 pills\")\n",
    "elif weight < 40 and age >= 7:\n",
    "    print(\"Take 1/2 - 1 pills\")\n",
    "else:\n",
    "    print(\"Take 1/2 pill\")"
   ]
  },
  {
   "cell_type": "markdown",
   "metadata": {},
   "source": [
    "## 5. Divisible\n",
    "- Let the user input a number. Check if the number is\n",
    "    - even or odd\n",
    "    - is divisible by 5\n",
    "    - is divisble by 5 and odd"
   ]
  },
  {
   "cell_type": "code",
   "execution_count": 48,
   "metadata": {},
   "outputs": [
    {
     "name": "stdout",
     "output_type": "stream",
     "text": [
      "4 is even\n",
      "4 is even but not divisable by 5.\n"
     ]
    }
   ],
   "source": [
    "number = float(input(\"Input your number: \")) #Lets the user input a number, converts the string to a float\n",
    "\n",
    "if number % 2 == 0:                             # checks if number is even\n",
    "    print(f\"{number:.0f} is even\")\n",
    "    if number % 5 == 0:                         # checks if number is odd\n",
    "        print(f\"{number:.0f} is divisable by 5.\")\n",
    "    else:\n",
    "        print(f\"{number:.0f} is even but not divisable by 5.\") # prints this line if the number is even but not divisable by 5\n",
    "elif number % 1 == 0:                                       # checks if number is odd\n",
    "    print(f\"{number:.0f} is odd.\")                          \n",
    "    if number % 5 == 0:                                     # of the number is odd, checks if its divisible by 5\n",
    "        print(f\"{number:.0f} is odd but still divisable by 5.\")\n"
   ]
  },
  {
   "cell_type": "markdown",
   "metadata": {},
   "source": [
    "```py"
   ]
  },
  {
   "cell_type": "markdown",
   "metadata": {},
   "source": [
    "## 6. Luggage size\n",
    "\n",
    "- The maximum allowed luggage size for boarding an airplane is:\n",
    "    - weight: 8kg\n",
    "    - dimensions 55x40x23cm (length x width x height)\n",
    "- Let the user input weight, length, width and height of the luggage. The program should check if the luggage is allowed or not."
   ]
  },
  {
   "cell_type": "code",
   "execution_count": 54,
   "metadata": {},
   "outputs": [
    {
     "name": "stdout",
     "output_type": "stream",
     "text": [
      "45.0 Your luggage exceedes the maximum allowed width\n"
     ]
    }
   ],
   "source": [
    "weight = float(input(\"Input the weight of your luggage: \"))\n",
    "length = float(input(\"Input the length of your luggage: \"))\n",
    "width = float(input(\"Input the width of your luggage: \"))\n",
    "height = float(input(\"Input the height of your luggage: \"))\n",
    "\n",
    "if weight <= 8:\n",
    "    if length <= 55:\n",
    "        if width <= 40:\n",
    "            if height <= 23:\n",
    "                print(\"Your luggage is allowed onboard.\")  \n",
    "            elif height > 23:\n",
    "                print(f\"{height} Your luggage exceeds the maximum allowed height.\")             \n",
    "        elif width > 40:\n",
    "                print(f\"{width} Your luggage exceedes the maximum allowed width\")    \n",
    "    elif length > 55:\n",
    "            print(f\"{length} Your luggage exceedes the maximum allowed length.\")\n",
    "elif weight > 8:\n",
    "    print(f\"{weight} Your luggage exceeds the maximum allowed weight\")\n",
    "\n",
    "# if weight > 8:                                        !!! Mycket lättare kod !!!\n",
    "#    print(\"din väska väger för mycket\")                !!! Mer lättläst, färre rader !!!\n",
    "# elif length > 55 or width > 40 or height > 23:\n",
    "#    print(\"din väska är för stor\")\n",
    "# else:\n",
    "#    print(\"Du får ta med dig väskan på planet\")\n",
    "\n",
    "\n",
    "# if weight > 8:\n",
    "#    print(\"Your luggage exceeds the weight.\")\n",
    "# elif length > 55 or width > 40 or height > 23:\n",
    "#    print(\"Your luggage is too big.\")\n",
    "#else:\n",
    "#    print(\"Your luggage meets the requirements. \")"
   ]
  },
  {
   "cell_type": "code",
   "execution_count": null,
   "metadata": {},
   "outputs": [],
   "source": []
  }
 ],
 "metadata": {
  "kernelspec": {
   "display_name": "Python 3.9.13 ('Python-Jonas-Bengtstrom-9S9shp4H')",
   "language": "python",
   "name": "python3"
  },
  "language_info": {
   "codemirror_mode": {
    "name": "ipython",
    "version": 3
   },
   "file_extension": ".py",
   "mimetype": "text/x-python",
   "name": "python",
   "nbconvert_exporter": "python",
   "pygments_lexer": "ipython3",
   "version": "3.9.13"
  },
  "orig_nbformat": 4,
  "vscode": {
   "interpreter": {
    "hash": "3be68742c16efe966197c8d096961fddba4647d994ea7cd07d1be7ea704d2a8e"
   }
  }
 },
 "nbformat": 4,
 "nbformat_minor": 2
}
