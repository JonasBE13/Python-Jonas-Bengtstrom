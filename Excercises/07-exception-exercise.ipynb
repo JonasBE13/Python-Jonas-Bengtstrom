{
 "cells": [
  {
   "cell_type": "markdown",
   "metadata": {},
   "source": [
    "## Error handling exercises\n",
    "- 1. Find errors\n"
   ]
  },
  {
   "cell_type": "code",
   "execution_count": null,
   "metadata": {},
   "outputs": [],
   "source": [
    "# impor numpy as np\n",
    "\n",
    "# def distance(x,y)\n",
    "#     reurn np.sqrt(x+y)\n",
    "\n",
    "# print(distance([0.5, 0.5]))"
   ]
  },
  {
   "cell_type": "code",
   "execution_count": null,
   "metadata": {},
   "outputs": [],
   "source": [
    "import numpy as np\n",
    "\n",
    "\n",
    "def distance(x,y):\n",
    "    return np.sqrt(x**2+y**2)\n",
    "\n",
    "print(distance(0.5, 0.5))"
   ]
  },
  {
   "cell_type": "markdown",
   "metadata": {},
   "source": [
    "## 2. Find errors"
   ]
  },
  {
   "cell_type": "code",
   "execution_count": null,
   "metadata": {},
   "outputs": [],
   "source": [
    "# def is_fourdigit(number):\n",
    "#     if number//1000 < 10\n",
    "#         return true\n",
    "#     else \n",
    "#         return false\n",
    "\n",
    "# # test program\n",
    "# test_numbers = [231, 3124, -4124, -1000,-999, 1001, 10000, -10000, 999]\n",
    "\n",
    "# for number in test_numbers:\n",
    "#     if is_fourdigit(number):\n",
    "#         print(f\"{number} is four-digit\")\n",
    "#     else:\n",
    "#         print(f\"{number} is not four-digit\")"
   ]
  },
  {
   "cell_type": "code",
   "execution_count": null,
   "metadata": {},
   "outputs": [],
   "source": [
    "def is_fourdigit(number):\n",
    "    if 1 <= abs(number/1000) < 10:\n",
    "        return True\n",
    "    else:\n",
    "        return False\n",
    "\n",
    "# test program\n",
    "test_numbers = [231, 3124, -4124, -1000,-999, 1001, 10000, -10000, 999]\n",
    "\n",
    "for number in test_numbers:\n",
    "    if is_fourdigit(number):\n",
    "        print(f\"{number} is four-digit\")\n",
    "    else:\n",
    "        print(f\"{number} is not four-digit\")"
   ]
  },
  {
   "cell_type": "markdown",
   "metadata": {},
   "source": [
    "## 3. Tram"
   ]
  },
  {
   "cell_type": "code",
   "execution_count": 6,
   "metadata": {},
   "outputs": [
    {
     "name": "stdout",
     "output_type": "stream",
     "text": [
      "Number of times must be between 0 and 100 for a month, not -23.0.\n",
      "Cost of one ticket must be  between 0 and 100 kr, not -30.0.\n",
      "A monthly ticket must cost between 0 and 1000 kr, not -99.0.\n",
      "Cost with one-time tickets: 690.0 kr.\n",
      "Cost with monthly ticket: 500.0 kr.\n",
      "It's worth to buy a monthly ticket.\n"
     ]
    }
   ],
   "source": [
    "while True:\n",
    "    trainTrips = input(\"Tell me the amount of times you want to take the tram in one month: \")\n",
    "    try:\n",
    "        trainTrips = float(trainTrips)\n",
    "        if not 0 <= trainTrips <= 100:\n",
    "            raise ValueError(f\"Number of times must be between 0 and 100 for a month, not {trainTrips}.\")\n",
    "        break\n",
    "    except ValueError as err:\n",
    "        print(err)\n",
    "\n",
    "while True:\n",
    "    daily_ticket = input(\"What does one tram ticket cost?\")\n",
    "    try:\n",
    "        daily_ticket = float(daily_ticket)\n",
    "        if not 0 <= daily_ticket <= 100:\n",
    "            raise ValueError(f\"Cost of one ticket must be  between 0 and 100 kr, not {daily_ticket}.\")\n",
    "        break\n",
    "    except ValueError as err:\n",
    "        print(err)\n",
    "\n",
    "while True:\n",
    "    monthly_ticket = input(\"How much does a monthly ticket cost?\")\n",
    "    try:\n",
    "        monthly_ticket = float(monthly_ticket)\n",
    "        if not 0 <= monthly_ticket <= 1000:\n",
    "            raise ValueError(f\"A monthly ticket must cost between 0 and 1000 kr, not {monthly_ticket}.\")\n",
    "        break\n",
    "    except ValueError as err:\n",
    "        print(err)\n",
    "    \n",
    "\n",
    "print(f\"Cost with one-time tickets: {trainTrips*daily_ticket} kr.\")\n",
    "print(f\"Cost with monthly ticket: {monthly_ticket} kr.\")\n",
    "if monthly_ticket < trainTrips*daily_ticket:\n",
    "    print(\"It's worth to buy a monthly ticket.\")\n",
    "else:\n",
    "    print(\"It's worth to buy one time tickets.\")\n",
    "\n",
    "# testa\n",
    "#   else:\n",
    "#       daily_ticket..."
   ]
  },
  {
   "cell_type": "code",
   "execution_count": 9,
   "metadata": {},
   "outputs": [
    {
     "name": "stdout",
     "output_type": "stream",
     "text": [
      "Åldern som du anger måste vara mellan 0 och 125, inte 200.0\n",
      "Åldern som du anger måste vara mellan 0 och 125, inte 200.0\n",
      "Åldern som du anger måste vara mellan 0 och 125, inte -50.0\n",
      "Du är 50.0 år gammal\n"
     ]
    }
   ],
   "source": [
    "while True:\n",
    "    age = input(\"Ange din ålder: \")\n",
    "\n",
    "    try:\n",
    "        age = float(age)\n",
    "        if not 0 <= age <= 125:\n",
    "            raise ValueError(f\"Åldern som du anger måste vara mellan 0 och 125, inte {age}\") # \"Raise\" an exception. You can define what kind of error to raise, and the text to print to the user.\n",
    "        break\n",
    "    except ValueError as err: \n",
    "        print(err)\n",
    "\n",
    "print(f\"Du är {age} år gammal\")"
   ]
  }
 ],
 "metadata": {
  "kernelspec": {
   "display_name": "Python 3.9.13 64-bit",
   "language": "python",
   "name": "python3"
  },
  "language_info": {
   "codemirror_mode": {
    "name": "ipython",
    "version": 3
   },
   "file_extension": ".py",
   "mimetype": "text/x-python",
   "name": "python",
   "nbconvert_exporter": "python",
   "pygments_lexer": "ipython3",
   "version": "3.9.13"
  },
  "orig_nbformat": 4,
  "vscode": {
   "interpreter": {
    "hash": "085c51388782ab7dcc7b32a500f9634129d1cddb82cd7a37058a5984251a0bc1"
   }
  }
 },
 "nbformat": 4,
 "nbformat_minor": 2
}
