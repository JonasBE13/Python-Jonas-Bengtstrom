{
 "cells": [
  {
   "cell_type": "markdown",
   "metadata": {},
   "source": [
    "## Dictonary exercies\n",
    "\n",
    "# 1. Curriculum\n",
    "\n",
    "- Create a dictionary containing all the courses that you will study in this program, with the course names as keys and the amount of points as value. Then calculate the number of points that you will study in total. (*)"
   ]
  },
  {
   "cell_type": "code",
   "execution_count": 7,
   "metadata": {},
   "outputs": [
    {
     "name": "stdout",
     "output_type": "stream",
     "text": [
      "{'Databaser': 25, 'Databehandling': 25, 'Djup_Maskininlärning': 40, 'Examensarbete': 15, 'Introduktionskurs_till_AI': 5, 'LIA_1': 40, 'LIA_2': 70, 'Maskininlärning': 45, 'Praktisk_Maskininlärning': 35, 'Programmering_med_Python': 40, 'Projektmetodik': 10, 'Statistiska_metoder': 30, 'Linjär_Algebra': 20}\n",
      "Total number of points that I will study: 400 \n"
     ]
    },
    {
     "data": {
      "text/plain": [
       "400"
      ]
     },
     "execution_count": 7,
     "metadata": {},
     "output_type": "execute_result"
    }
   ],
   "source": [
    "courses = dict(\n",
    "    Databaser = 25,\n",
    "    Databehandling = 25,\n",
    "    Djup_Maskininlärning = 40,\n",
    "    Examensarbete = 15,\n",
    "    Introduktionskurs_till_AI = 5,\n",
    "    LIA_1 = 40,\n",
    "    LIA_2 = 70,\n",
    "    Maskininlärning = 45,\n",
    "    Praktisk_Maskininlärning = 35,\n",
    "    Programmering_med_Python = 40,\n",
    "    Projektmetodik = 10,\n",
    "    Statistiska_metoder = 30,\n",
    "    Linjär_Algebra = 20\n",
    "\n",
    ")\n",
    "total_points = sum(courses.values())    # uses function sum to summerize all values in the directory \"courses.\". Gave it a variable called \"total_points\".\n",
    "print(f\"{courses}\")\n",
    "print(f\"Total number of points that I will study: {total_points} \")\n",
    "sum(courses.values())"
   ]
  },
  {
   "cell_type": "markdown",
   "metadata": {},
   "source": [
    "## 2. Dice simulation\n",
    "\n",
    "- Simulate 1000000 dice rolls and save the number of ones, twos, ..., sixes in a dictionary. Then print them out in the terminal. (*)"
   ]
  },
  {
   "cell_type": "code",
   "execution_count": 46,
   "metadata": {},
   "outputs": [
    {
     "name": "stdout",
     "output_type": "stream",
     "text": [
      "{'roll_of_1': 166521, 'roll_of_2': 166521, 'roll_of_3': 166800, 'roll_of_4': 167411, 'roll_of_5': 166515, 'roll_of_6': 166232}\n",
      "1: 166521\n",
      "2: 166521\n",
      "3: 166800\n",
      "4: 167411\n",
      "5: 166515\n",
      "6: 166232\n",
      "\n",
      "1: 166521\n",
      "2: 166521\n",
      "\n"
     ]
    }
   ],
   "source": [
    "import random as rnd\n",
    "\n",
    "actual_rolls = [rnd.randint(1,6) for i in range(1000000)]\n",
    "\n",
    "dice_rolls = dict(\n",
    "    roll_of_1 = actual_rolls.count(1),      # key = roll_of_1.      value = actual_rolls.count(1)\n",
    "    roll_of_2 = actual_rolls.count(2),      # numret i \"count.(2)\", dvs 2:an berättar att den ska lagra varje förekomst av \"2\" som randomeraren skapar.\n",
    "    roll_of_3 = actual_rolls.count(3),\n",
    "    roll_of_4 = actual_rolls.count(4),\n",
    "    roll_of_5 = actual_rolls.count(5),\n",
    "    roll_of_6 = actual_rolls.count(6)\n",
    ")\n",
    "dice_rolls\n",
    "\n",
    "print(f\"{dice_rolls}\")           # printar hela dictionaryt. I detta fall Key: roll_of_1, .... roll_of_6    SAMT    tillhörande Value: 1666xx. Valuen kommer från randomeraren.\n",
    "print(f\"1: {dice_rolls['roll_of_1']}\")      #  prints the Value associated with the Key 'roll_of_1'\n",
    "print(f\"2: {dice_rolls['roll_of_2']}\")\n",
    "print(f\"3: {dice_rolls['roll_of_3']}\")\n",
    "print(f\"4: {dice_rolls['roll_of_4']}\")\n",
    "print(f\"5: {dice_rolls['roll_of_5']}\")\n",
    "print(f\"6: {dice_rolls['roll_of_6']}\\n\")\n",
    "\n",
    "print(f\"1: {dice_rolls['roll_of_1']}\\n2: {dice_rolls['roll_of_2']}\\n\")  # different way to print. Not as clean though. Same result.\n"
   ]
  }
 ],
 "metadata": {
  "kernelspec": {
   "display_name": "Python 3.9.13 ('Python-Jonas-Bengtstrom-9S9shp4H')",
   "language": "python",
   "name": "python3"
  },
  "language_info": {
   "codemirror_mode": {
    "name": "ipython",
    "version": 3
   },
   "file_extension": ".py",
   "mimetype": "text/x-python",
   "name": "python",
   "nbconvert_exporter": "python",
   "pygments_lexer": "ipython3",
   "version": "3.9.13"
  },
  "orig_nbformat": 4,
  "vscode": {
   "interpreter": {
    "hash": "3be68742c16efe966197c8d096961fddba4647d994ea7cd07d1be7ea704d2a8e"
   }
  }
 },
 "nbformat": 4,
 "nbformat_minor": 2
}
