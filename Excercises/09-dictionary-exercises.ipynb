{
 "cells": [
  {
   "cell_type": "markdown",
   "metadata": {},
   "source": [
    "## Dictonary exercies\n",
    "\n",
    "# 1. Curriculum\n",
    "\n",
    "- Create a dictionary containing all the courses that you will study in this program, with the course names as keys and the amount of points as value. Then calculate the number of points that you will study in total. (*)"
   ]
  },
  {
   "cell_type": "code",
   "execution_count": 7,
   "metadata": {},
   "outputs": [
    {
     "name": "stdout",
     "output_type": "stream",
     "text": [
      "{'Databaser': 25, 'Databehandling': 25, 'Djup_Maskininlärning': 40, 'Examensarbete': 15, 'Introduktionskurs_till_AI': 5, 'LIA_1': 40, 'LIA_2': 70, 'Maskininlärning': 45, 'Praktisk_Maskininlärning': 35, 'Programmering_med_Python': 40, 'Projektmetodik': 10, 'Statistiska_metoder': 30, 'Linjär_Algebra': 20}\n",
      "Total number of points that I will study: 400 \n"
     ]
    },
    {
     "data": {
      "text/plain": [
       "400"
      ]
     },
     "execution_count": 7,
     "metadata": {},
     "output_type": "execute_result"
    }
   ],
   "source": [
    "courses = dict(\n",
    "    Databaser = 25,\n",
    "    Databehandling = 25,\n",
    "    Djup_Maskininlärning = 40,\n",
    "    Examensarbete = 15,\n",
    "    Introduktionskurs_till_AI = 5,\n",
    "    LIA_1 = 40,\n",
    "    LIA_2 = 70,\n",
    "    Maskininlärning = 45,\n",
    "    Praktisk_Maskininlärning = 35,\n",
    "    Programmering_med_Python = 40,\n",
    "    Projektmetodik = 10,\n",
    "    Statistiska_metoder = 30,\n",
    "    Linjär_Algebra = 20\n",
    "\n",
    ")\n",
    "total_points = sum(courses.values())    # uses function sum to summerize all values in the directory \"courses.\". Gave it a variable called \"total_points\".\n",
    "print(f\"{courses}\")\n",
    "print(f\"Total number of points that I will study: {total_points} \")\n",
    "sum(courses.values())"
   ]
  }
 ],
 "metadata": {
  "kernelspec": {
   "display_name": "Python 3.9.13 ('Python-Jonas-Bengtstrom-9S9shp4H')",
   "language": "python",
   "name": "python3"
  },
  "language_info": {
   "codemirror_mode": {
    "name": "ipython",
    "version": 3
   },
   "file_extension": ".py",
   "mimetype": "text/x-python",
   "name": "python",
   "nbconvert_exporter": "python",
   "pygments_lexer": "ipython3",
   "version": "3.9.13"
  },
  "orig_nbformat": 4,
  "vscode": {
   "interpreter": {
    "hash": "3be68742c16efe966197c8d096961fddba4647d994ea7cd07d1be7ea704d2a8e"
   }
  }
 },
 "nbformat": 4,
 "nbformat_minor": 2
}
