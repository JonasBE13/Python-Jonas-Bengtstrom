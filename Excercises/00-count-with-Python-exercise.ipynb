{
 "cells": [
  {
   "cell_type": "markdown",
   "metadata": {},
   "source": [
    "## Pythagorean theorem"
   ]
  },
  {
   "cell_type": "code",
   "execution_count": 12,
   "metadata": {},
   "outputs": [
    {
     "name": "stdout",
     "output_type": "stream",
     "text": [
      "5.0\n"
     ]
    }
   ],
   "source": [
    "from math import sqrt\n",
    "\n",
    "# A\n",
    "# c = sqrt(a^2 + b^2)\n",
    "a = 3\n",
    "b = 4\n",
    "c = sqrt((a**2) + (b**2))\n",
    "print(c)\n",
    "#Svar 5.0"
   ]
  },
  {
   "cell_type": "code",
   "execution_count": 17,
   "metadata": {},
   "outputs": [
    {
     "name": "stdout",
     "output_type": "stream",
     "text": [
      "b=4.9\n"
     ]
    }
   ],
   "source": [
    "# B\n",
    "# b = sqrt(c^2 - b^2)\n",
    "from math import sqrt\n",
    "c = 7.0\n",
    "a = 5.0\n",
    "b = sqrt((c**2) - (a**2))\n",
    "print(f\"{b=:.1f}\")\n",
    "#Svar: ~ 4.9"
   ]
  },
  {
   "cell_type": "markdown",
   "metadata": {},
   "source": [
    "## 2 Classificcation accuracy"
   ]
  },
  {
   "cell_type": "code",
   "execution_count": 18,
   "metadata": {},
   "outputs": [
    {
     "name": "stdout",
     "output_type": "stream",
     "text": [
      "0.821917808219178\n"
     ]
    }
   ],
   "source": [
    "#A machine learning algorithm has been trained to predict whether or not it would rain the next day.\n",
    "# Out of 365 predictions, it got 300 correct, compute the accuracy of this model.\n",
    "\n",
    "a = 300/365\n",
    "print(a)\n",
    "\n",
    "#Svar: Accuracy på ca ~82%"
   ]
  },
  {
   "cell_type": "markdown",
   "metadata": {},
   "source": [
    "## 3 Classification accuracy "
   ]
  },
  {
   "cell_type": "code",
   "execution_count": 21,
   "metadata": {},
   "outputs": [
    {
     "name": "stdout",
     "output_type": "stream",
     "text": [
      "0.987\n"
     ]
    }
   ],
   "source": [
    "accuracy = (2+985)/(2+985+2+11)\n",
    "print(accuracy)\n",
    "\n",
    "#Svar 0.987\n",
    "#Svar: Modellen har en träffsäkerhet på 98.7%."
   ]
  },
  {
   "cell_type": "markdown",
   "metadata": {},
   "source": [
    "## 4 Line"
   ]
  },
  {
   "cell_type": "code",
   "execution_count": 29,
   "metadata": {},
   "outputs": [
    {
     "name": "stdout",
     "output_type": "stream",
     "text": [
      "0.75\n",
      "0.75\n"
     ]
    }
   ],
   "source": [
    "# k = (y2 - y1)  /  (x2 - x1)\n",
    "\n",
    "a = (4,4)\n",
    "b = (0,1)\n",
    "k = (1-4) / (0-4)\n",
    "c = (4-1) / (4-0)\n",
    "m = 1\n",
    "print(k)\n",
    "print(c)\n",
    "\n",
    "#Svar M = 1, K = 0.75\n"
   ]
  },
  {
   "cell_type": "markdown",
   "metadata": {},
   "source": [
    "## 5 Euclidean Distance"
   ]
  },
  {
   "cell_type": "code",
   "execution_count": 2,
   "metadata": {},
   "outputs": [
    {
     "name": "stdout",
     "output_type": "stream",
     "text": [
      "5.0990195135927845\n"
     ]
    }
   ],
   "source": [
    "#P1 (3,5)\n",
    "#P2 (-2,4)\n",
    "from math import sqrt\n",
    "\n",
    "distance = sqrt((-2-3)**2 + (4-5)**2)\n",
    "\n",
    "print(distance)\n",
    "#svar: the distance is ~5.1 length units"
   ]
  },
  {
   "cell_type": "markdown",
   "metadata": {},
   "source": [
    "## 6 Euclidean Distance"
   ]
  },
  {
   "cell_type": "code",
   "execution_count": 4,
   "metadata": {},
   "outputs": [
    {
     "name": "stdout",
     "output_type": "stream",
     "text": [
      "4.123105625617661\n"
     ]
    }
   ],
   "source": [
    "#P1: (2,1,4)\n",
    "#P2: (3,1,0)\n",
    "from math import sqrt\n",
    "distance = sqrt((2-3)**2 + (1-1)**2 + (4-0)**2)\n",
    "print(distance)\n",
    "#svar: the distance is ~4.12 length units"
   ]
  },
  {
   "cell_type": "code",
   "execution_count": null,
   "metadata": {},
   "outputs": [],
   "source": []
  }
 ],
 "metadata": {
  "kernelspec": {
   "display_name": "Python 3.9.13 64-bit",
   "language": "python",
   "name": "python3"
  },
  "language_info": {
   "codemirror_mode": {
    "name": "ipython",
    "version": 3
   },
   "file_extension": ".py",
   "mimetype": "text/x-python",
   "name": "python",
   "nbconvert_exporter": "python",
   "pygments_lexer": "ipython3",
   "version": "3.9.13"
  },
  "orig_nbformat": 4,
  "vscode": {
   "interpreter": {
    "hash": "7acd502b65e0e6cb863a3d189daffb19a9493ff1027c2f1f273e53dd2282c7e6"
   }
  }
 },
 "nbformat": 4,
 "nbformat_minor": 2
}
