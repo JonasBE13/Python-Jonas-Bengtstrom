{
 "cells": [
  {
   "cell_type": "markdown",
   "metadata": {},
   "source": [
    "# 1. Unit conversion (*)\n",
    "## Create a class for converting US units to the metric system. It should have the following bound methods:\n",
    "\n",
    "- __init__ (self, value)\n",
    "\n",
    "- inch_to_cm(self)\n",
    "\n",
    "- foot_to_meters(self)\n",
    "\n",
    "- pound_to_kg(self)\n",
    "\n",
    "- __repr__(self)\n",
    "- Make sure that value is the correct type and format, raise suitable exceptions in case it isn't. Make value into property with getter and setter. Test your class manually by instantiating an object from it and test different methods. (*)"
   ]
  },
  {
   "cell_type": "code",
   "execution_count": 5,
   "metadata": {},
   "outputs": [
    {
     "name": "stdout",
     "output_type": "stream",
     "text": [
      "594.36\n",
      "71.136\n",
      "106.00200000000001\n",
      "Unit = 234\n"
     ]
    }
   ],
   "source": [
    "class Converter:\n",
    "\n",
    "    def __init__(self, unit):\n",
    "        self.unit = unit\n",
    "    \n",
    "    @property\n",
    "    def unit(self) -> int:\n",
    "        \"\"\"Read-only property, can't set the unit\"\"\"\n",
    "        return self._unit\n",
    "    \n",
    "    @unit.setter # sets the unit\n",
    "    def unit(self, unit: int):\n",
    "        \"\"\"Setter for unit with error handling\"\"\"\n",
    "        if not isinstance(unit, (int, float)):\n",
    "            raise TypeError(f\"Unit must be a number, not {type(unit)}\")\n",
    "            \n",
    "        if not 0 < unit < 1000:\n",
    "            raise ValueError(\"Unit must be between 0 and 1000.\")\n",
    "\n",
    "        self._unit = unit\n",
    "    \n",
    "    def inch_to_cm(self):\n",
    "        return self.unit*2.54\n",
    "\n",
    "    def foot_to_meters(self):\n",
    "        return self.unit*0.304\n",
    "\n",
    "    def pound_to_kg(self):\n",
    "        return self.unit*0.453\n",
    "    \n",
    "    def __repr__(self) -> str:\n",
    "        return f\"Unit = {self.unit}\"\n",
    "\n",
    "unit1 = Converter(234)\n",
    "print(unit1.inch_to_cm())\n",
    "print(unit1.foot_to_meters())\n",
    "print(unit1.pound_to_kg())\n",
    "print(unit1)"
   ]
  },
  {
   "cell_type": "markdown",
   "metadata": {},
   "source": [
    "# 2. Person (*)\n",
    "## Create a class named Person, with parameterized constructor with the following parameters:\n",
    "\n",
    "- name\n",
    "- age\n",
    "- email\n",
    "- Turn name, age, email into properties with following validations in their setters:\n",
    "\n",
    "- name - must be string\n",
    "- age - must be number between 0 and 125\n",
    "- email - must include an @ sign\n",
    "- It should also have __repr__ method to represent the Person class in a neat way.\n",
    "\n",
    "Also create a method say_hello() that prints:\n",
    "\n",
    "Hi, my name is ..., I am ... years old, my email address is ...  "
   ]
  },
  {
   "cell_type": "code",
   "execution_count": 23,
   "metadata": {},
   "outputs": [
    {
     "name": "stdout",
     "output_type": "stream",
     "text": [
      "Hi my name is Hej, I am 26 years old. My email adress is asdf@sdfg.\n",
      "{'_name': 'Hej', '_age': 26, '_email': 'asdf@sdfg'}\n",
      "\n",
      "Hi my name is Jonas, I am 26 years old. My email adress is jonas@jonas.com.\n",
      "{'_name': 'Jonas', '_age': 26, '_email': 'jonas@jonas.com'}\n"
     ]
    }
   ],
   "source": [
    "class Person: # setting class\n",
    "    \"\"\"Person class for storing name, age, email.\"\"\"\n",
    "    def __init__(self, name: str, age: int, email: str):\n",
    "        self.name = name\n",
    "        self.age = age\n",
    "        self.email = email\n",
    "    \n",
    "    @property\n",
    "    def name(self) -> str:\n",
    "        \"\"\"Read-only property, can't set name\"\"\"\n",
    "        return self._name\n",
    "    \n",
    "    @property\n",
    "    def age(self) -> int:\n",
    "        \"\"\"Read-only property, can't set age.\"\"\"\n",
    "        return self._age\n",
    "\n",
    "    @property\n",
    "    def email(self) -> str:\n",
    "        \"\"\"Read-only property, can't set email.\"\"\"\n",
    "        return self._email\n",
    "\n",
    "    @name.setter #setting name with error handling\n",
    "    def name(self, value: str):\n",
    "        \"\"\"Setter for name with error handling\"\"\"\n",
    "        if not isinstance(value, str):\n",
    "            raise TypeError(f\"Name must be string, not {type(value)}\")\n",
    "\n",
    "        if not (1 < len(value) < 26):\n",
    "            raise ValueError(f\"Name must be betwwen 2 and 25 characters\")\n",
    "        self._name = value\n",
    "    \n",
    "    @age.setter\n",
    "    def age(self, value: int):\n",
    "        if not isinstance(value, (int, float)):\n",
    "            raise TypeError(f\"Age must be either int or float, not {type(value)}\")\n",
    "\n",
    "        if not (0 < value < 126):\n",
    "            raise ValueError(\"Your age must be between 1 and 125.\")\n",
    "        self._age = value\n",
    "\n",
    "    @email.setter\n",
    "    def email(self, value: str):\n",
    "        \"\"\"Setter for Email with error handling.\"\"\"\n",
    "        if not isinstance(value, str):\n",
    "            raise TypeError(f\"Email must be str\")\n",
    "\n",
    "        if not \"@\" in value:\n",
    "            raise ValueError(f\"Email must contain the '@' sign.\")\n",
    "        self._email = value\n",
    "    \n",
    "\n",
    "    def say_hello(self):\n",
    "        return f\"Hi my name is {self.name}, I am {self.age} years old. My email adress is {self.email}.\"\n",
    "\n",
    "\n",
    "    def __repr__(self) -> str:\n",
    "        return f\"Person(name = {self.name}, age = {self.age}, email = {self.email})\"\n",
    "\n",
    "person1 = Person(\"Hej\", 26, \"asdf@sdfg\")\n",
    "\n",
    "person2 = Person(\"Jonas\", 26, \"jonas@jonas.com\")\n",
    "\n",
    "# contains the information put in 'person1'\n",
    "print(person1.say_hello())\n",
    "print(f\"{person1.__dict__}\\n\") # '\\n' for a nicer output\n",
    "\n",
    "# contains the information put in 'person2'\n",
    "print(person2.say_hello())\n",
    "print(person2.__dict__)"
   ]
  }
 ],
 "metadata": {
  "kernelspec": {
   "display_name": "Python 3.9.13 ('Python-Jonas-Bengtstrom-9S9shp4H')",
   "language": "python",
   "name": "python3"
  },
  "language_info": {
   "codemirror_mode": {
    "name": "ipython",
    "version": 3
   },
   "file_extension": ".py",
   "mimetype": "text/x-python",
   "name": "python",
   "nbconvert_exporter": "python",
   "pygments_lexer": "ipython3",
   "version": "3.9.13"
  },
  "orig_nbformat": 4,
  "vscode": {
   "interpreter": {
    "hash": "3be68742c16efe966197c8d096961fddba4647d994ea7cd07d1be7ea704d2a8e"
   }
  }
 },
 "nbformat": 4,
 "nbformat_minor": 2
}
