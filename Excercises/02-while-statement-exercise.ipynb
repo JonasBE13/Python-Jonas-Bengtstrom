{
 "cells": [
  {
   "cell_type": "code",
   "execution_count": null,
   "metadata": {},
   "outputs": [],
   "source": []
  },
  {
   "cell_type": "markdown",
   "metadata": {},
   "source": [
    "## 1 Count numbers\n",
    "- Use a while statement to count from -10 to 10 with one increment."
   ]
  },
  {
   "cell_type": "code",
   "execution_count": 1,
   "metadata": {},
   "outputs": [
    {
     "name": "stdout",
     "output_type": "stream",
     "text": [
      "number=-10\n",
      "number=-9\n",
      "number=-8\n",
      "number=-7\n",
      "number=-6\n",
      "number=-5\n",
      "number=-4\n",
      "number=-3\n",
      "number=-2\n",
      "number=-1\n",
      "number=0\n",
      "number=1\n",
      "number=2\n",
      "number=3\n",
      "number=4\n",
      "number=5\n",
      "number=6\n",
      "number=7\n",
      "number=8\n",
      "number=9\n",
      "number=10\n"
     ]
    }
   ],
   "source": [
    "number = -10\n",
    "\n",
    "while number < 11:\n",
    "    print(f\"{number=}\")\n",
    "    number += 1"
   ]
  },
  {
   "cell_type": "markdown",
   "metadata": {},
   "source": [
    "# 2. Arithmetic sum\n",
    "- Use a while statement to compute the following sums:\n",
    "    - sum=1+2+…+99+100\n",
    "    - sum=1+3+5+…+97+99"
   ]
  },
  {
   "cell_type": "markdown",
   "metadata": {},
   "source": [
    "- Exercise a\n"
   ]
  },
  {
   "cell_type": "code",
   "execution_count": 7,
   "metadata": {},
   "outputs": [
    {
     "name": "stdout",
     "output_type": "stream",
     "text": [
      "5050\n"
     ]
    }
   ],
   "source": [
    "sum = 0\n",
    "i = 1\n",
    "n = 100\n",
    "\n",
    "while i <= n:\n",
    "    sum = sum + i\n",
    "    i = i+1\n",
    "print(f\"{sum}\")"
   ]
  },
  {
   "cell_type": "markdown",
   "metadata": {},
   "source": [
    " - Exercise b"
   ]
  },
  {
   "cell_type": "code",
   "execution_count": 10,
   "metadata": {},
   "outputs": [
    {
     "name": "stdout",
     "output_type": "stream",
     "text": [
      "2500\n"
     ]
    }
   ],
   "source": [
    "sum = 0\n",
    "i = 1\n",
    "n = 100\n",
    "\n",
    "while i <= n:\n",
    "    sum = sum + i\n",
    "    i = i+2\n",
    "print(f\"{sum}\")"
   ]
  },
  {
   "cell_type": "markdown",
   "metadata": {},
   "source": [
    "# 3. Guess number game\n",
    "    - Create a guessing number game following this flow chart:\n",
    "    - Make an algorithm to automatically guess the correct number. Can you optimize to get as few guesses as possible?"
   ]
  },
  {
   "cell_type": "code",
   "execution_count": 8,
   "metadata": {},
   "outputs": [
    {
     "name": "stdout",
     "output_type": "stream",
     "text": [
      "Your guess is too low.\n",
      "Your guess is too low.\n",
      "Your guess is correct!\n",
      "You've successfully guessed the correct number. The number was: 3.\n",
      "You completed the game in: 2 amount of tries.\n"
     ]
    }
   ],
   "source": [
    "import random\n",
    "\n",
    "\n",
    "rNumb = random.randint(1,5)\n",
    "userInput = float(input(\"Enter number: \"))\n",
    "amountGuess = 1\n",
    "while True:\n",
    "    if userInput < rNumb:\n",
    "        amountGuess += 1\n",
    "        print(\"Your guess is too low.\")\n",
    "        userInput = float(input(\"Enter Number:\"))\n",
    "        \n",
    "    elif userInput > rNumb:\n",
    "        amountGuess += 1\n",
    "        print(\"Your guess is too high.\")\n",
    "        userInput = float(input(\"Enter Number:\"))\n",
    "        \n",
    "    else:\n",
    "        print(\"Your guess is correct!\")\n",
    "        break\n",
    "print(\"You've successfully guessed the correct number. The number was: \" f\"{rNumb}.\")\n",
    "print(\"You completed the game in: \"f\"{amountGuess} amount of tries.\")\n",
    "    \n",
    "\n",
    "\n",
    "\n",
    "#print(f\"{rNumb}\")"
   ]
  },
  {
   "cell_type": "markdown",
   "metadata": {},
   "source": [
    "Comment Highlighted code: Ctrl + K, Ctrl + C.\n",
    "Remove comment: Ctrl + K, Ctrl + U"
   ]
  },
  {
   "cell_type": "markdown",
   "metadata": {},
   "source": [
    "# 4. Multiplication game"
   ]
  },
  {
   "cell_type": "markdown",
   "metadata": {},
   "source": [
    "# 5. Check convergence\n",
    "- Use a while statement to compute the following sums:\n",
    "    - Check exercise sheet for sums."
   ]
  },
  {
   "cell_type": "markdown",
   "metadata": {},
   "source": []
  }
 ],
 "metadata": {
  "kernelspec": {
   "display_name": "Python 3.9.13 ('Python-Jonas-Bengtstrom-9S9shp4H')",
   "language": "python",
   "name": "python3"
  },
  "language_info": {
   "codemirror_mode": {
    "name": "ipython",
    "version": 3
   },
   "file_extension": ".py",
   "mimetype": "text/x-python",
   "name": "python",
   "nbconvert_exporter": "python",
   "pygments_lexer": "ipython3",
   "version": "3.9.13"
  },
  "orig_nbformat": 4,
  "vscode": {
   "interpreter": {
    "hash": "3be68742c16efe966197c8d096961fddba4647d994ea7cd07d1be7ea704d2a8e"
   }
  }
 },
 "nbformat": 4,
 "nbformat_minor": 2
}
