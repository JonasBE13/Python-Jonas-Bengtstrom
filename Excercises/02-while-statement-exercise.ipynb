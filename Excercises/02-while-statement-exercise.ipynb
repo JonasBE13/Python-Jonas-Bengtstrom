{
 "cells": [
  {
   "cell_type": "code",
   "execution_count": null,
   "metadata": {},
   "outputs": [],
   "source": []
  }
 ],
 "metadata": {
  "kernelspec": {
   "display_name": "Python 3.9.13 ('Python-Jonas-Bengtstrom-9S9shp4H')",
   "language": "python",
   "name": "python3"
  },
  "language_info": {
   "name": "python",
   "version": "3.9.13"
  },
  "orig_nbformat": 4,
  "vscode": {
   "interpreter": {
    "hash": "3be68742c16efe966197c8d096961fddba4647d994ea7cd07d1be7ea704d2a8e"
   }
  }
 },
 "nbformat": 4,
 "nbformat_minor": 2
}
