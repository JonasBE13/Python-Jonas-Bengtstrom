{
 "cells": [
  {
   "cell_type": "code",
   "execution_count": null,
   "metadata": {},
   "outputs": [],
   "source": []
  },
  {
   "cell_type": "markdown",
   "metadata": {},
   "source": [
    "## 1 Count numbers\n",
    "- Use a while statement to count from -10 to 10 with one increment."
   ]
  },
  {
   "cell_type": "code",
   "execution_count": 1,
   "metadata": {},
   "outputs": [
    {
     "name": "stdout",
     "output_type": "stream",
     "text": [
      "number=-10\n",
      "number=-9\n",
      "number=-8\n",
      "number=-7\n",
      "number=-6\n",
      "number=-5\n",
      "number=-4\n",
      "number=-3\n",
      "number=-2\n",
      "number=-1\n",
      "number=0\n",
      "number=1\n",
      "number=2\n",
      "number=3\n",
      "number=4\n",
      "number=5\n",
      "number=6\n",
      "number=7\n",
      "number=8\n",
      "number=9\n",
      "number=10\n"
     ]
    }
   ],
   "source": [
    "number = -10\n",
    "\n",
    "while number < 11:\n",
    "    print(f\"{number=}\")\n",
    "    number += 1"
   ]
  },
  {
   "cell_type": "markdown",
   "metadata": {},
   "source": [
    "# 2. Arithmetic sum\n",
    "- Use a while statement to compute the following sums:\n",
    "    - sum=1+2+…+99+100\n",
    "    - sum=1+3+5+…+97+99"
   ]
  },
  {
   "cell_type": "markdown",
   "metadata": {},
   "source": [
    "- Exercise a\n"
   ]
  },
  {
   "cell_type": "code",
   "execution_count": 7,
   "metadata": {},
   "outputs": [
    {
     "name": "stdout",
     "output_type": "stream",
     "text": [
      "5050\n"
     ]
    }
   ],
   "source": [
    "sum = 0\n",
    "i = 1\n",
    "n = 100\n",
    "\n",
    "while i <= n:\n",
    "    sum = sum + i\n",
    "    i = i+1\n",
    "print(f\"{sum}\")"
   ]
  },
  {
   "cell_type": "markdown",
   "metadata": {},
   "source": [
    " - Exercise b"
   ]
  },
  {
   "cell_type": "code",
   "execution_count": 10,
   "metadata": {},
   "outputs": [
    {
     "name": "stdout",
     "output_type": "stream",
     "text": [
      "2500\n"
     ]
    }
   ],
   "source": [
    "sum = 0\n",
    "i = 1\n",
    "n = 100\n",
    "\n",
    "while i <= n:\n",
    "    sum = sum + i\n",
    "    i = i+2\n",
    "print(f\"{sum}\")"
   ]
  },
  {
   "cell_type": "markdown",
   "metadata": {},
   "source": [
    "# 3. Guess number game\n",
    "    - Create a guessing number game following this flow chart:\n",
    "    - Make an algorithm to automatically guess the correct number. Can you optimize to get as few guesses as possible?"
   ]
  },
  {
   "cell_type": "markdown",
   "metadata": {},
   "source": [
    "# 3 a)\n"
   ]
  },
  {
   "cell_type": "code",
   "execution_count": 17,
   "metadata": {},
   "outputs": [
    {
     "name": "stdout",
     "output_type": "stream",
     "text": [
      "Your guess is too low.\n",
      "You've successfully guessed the correct number. The number was: 2.\n",
      "You completed the game in: 2 amount of tries.\n"
     ]
    }
   ],
   "source": [
    "import random\n",
    "\n",
    "\n",
    "rNumb = random.randint(1,100)\n",
    "userInput = float(input(\"Enter number: \"))\n",
    "amountGuess = 1\n",
    "while True:\n",
    "    if userInput < rNumb:\n",
    "        amountGuess += 1\n",
    "        print(\"Your guess is too low.\")\n",
    "        userInput = float(input(\"Enter Number:\"))\n",
    "        \n",
    "    elif userInput > rNumb:\n",
    "        amountGuess += 1\n",
    "        print(\"Your guess is too high.\")\n",
    "        userInput = float(input(\"Enter Number:\"))\n",
    "        \n",
    "    else:\n",
    "        break\n",
    "print(\"You've successfully guessed the correct number. The number was: \" f\"{rNumb}.\")\n",
    "print(\"You completed the game in: \"f\"{amountGuess} amount of tries.\")\n",
    "    \n",
    "\n",
    "\n",
    "\n",
    "#print(f\"{rNumb}\")"
   ]
  },
  {
   "cell_type": "markdown",
   "metadata": {},
   "source": [
    "# 3 b)\n",
    "    - Binary search algorithm"
   ]
  },
  {
   "cell_type": "code",
   "execution_count": 6,
   "metadata": {},
   "outputs": [
    {
     "name": "stdout",
     "output_type": "stream",
     "text": [
      "The AI takes a guess...: 50\n",
      "The AI takes a guess...: 75\n",
      "The AI takes a guess...: 88\n",
      "The AI takes a guess...: 82\n",
      "The AI guessed: 82 and it was correct.\n"
     ]
    }
   ],
   "source": [
    "num = float(input(\"Enter a number between 1 - 100.\"))\n",
    "low = 1\n",
    "high = 100\n",
    "aiGuess = (low+high)//2\n",
    "while num != aiGuess:\n",
    "    aiGuess = (low+high)//2\n",
    "    print(\"The AI takes a aiGuess...: \" f\"{aiGuess}\")\n",
    "    if aiGuess > num: # If aiGuess is higher than num, make high aiGuess. Ex: Guess 80. Too high. New \"roof\" is now 80. AI guesses between 1-80 instead.\n",
    "        high = aiGuess\n",
    "    elif aiGuess < num:       # If aiGuess is lower than num, make low aiGuess + 1. Ex: Guess 50. Too low. New \"floor\" is now 51. Ai guesses between 51 and 100.\n",
    "        low = aiGuess+1\n",
    "\n",
    "print(\"The AI guessed: \"f\"{aiGuess}\" \" and it was correct.\")"
   ]
  },
  {
   "cell_type": "markdown",
   "metadata": {},
   "source": [
    "Comment Highlighted code: Ctrl + K, Ctrl + C.\n",
    "Remove comment: Ctrl + K, Ctrl + U"
   ]
  },
  {
   "cell_type": "markdown",
   "metadata": {},
   "source": [
    "# 4. Multiplication game"
   ]
  },
  {
   "cell_type": "code",
   "execution_count": null,
   "metadata": {},
   "outputs": [],
   "source": [
    "score = 0\n",
    "while True:\n",
    "    import random\n",
    "\n",
    "    x = random.randint(1,10)\n",
    "    y = random.randint(1,10)\n",
    "    sum = x*y\n",
    "    # print(f\"{y}\")\n",
    "    # print(f\"{x}\")\n",
    "\n",
    "\n",
    "\n",
    "\n",
    "    print(f\"What is {x} times {y}?\")\n",
    "    answer = float(input(\"Answer:\"))\n",
    "    if answer == sum:\n",
    "        score = score+1\n",
    "        print(f\"{sum} is the correct answer! Good job.\")\n",
    "        print(\"Score: \"f\"{score}\")\n",
    "        yes = input(print(\"Would you like to play again? [j]/[n]...\"))\n",
    "        if yes == \"j\":\n",
    "            continue\n",
    "        else:\n",
    "            break\n",
    "\n",
    "    else:\n",
    "        print(\"Wrong answer.\")\n",
    "        yes = input(print(\"Would you like to play again? [j]/[n]...\"))\n",
    "        if yes == \"j\":\n",
    "            continue\n",
    "        else:\n",
    "            break"
   ]
  },
  {
   "cell_type": "markdown",
   "metadata": {},
   "source": [
    "# 5. Check convergence\n",
    "- Use a while statement to compute the following sums:\n",
    "    - Check exercise sheet for sums."
   ]
  },
  {
   "cell_type": "code",
   "execution_count": 4,
   "metadata": {},
   "outputs": [
    {
     "ename": "IndentationError",
     "evalue": "expected an indented block (2279341142.py, line 28)",
     "output_type": "error",
     "traceback": [
      "\u001b[1;36m  Input \u001b[1;32mIn [4]\u001b[1;36m\u001b[0m\n\u001b[1;33m    my_sum = 0\u001b[0m\n\u001b[1;37m    ^\u001b[0m\n\u001b[1;31mIndentationError\u001b[0m\u001b[1;31m:\u001b[0m expected an indented block\n"
     ]
    }
   ],
   "source": [
    "# sum = 0\n",
    "# i = 1\n",
    "# n = (1/2)\n",
    "\n",
    "# n = int(input())\n",
    "# print(n * (n + 1) // 2)\n",
    "\n",
    "# sum = 0\n",
    "# i = 1\n",
    "\n",
    "\n",
    "# while i <= 2:\n",
    "#     sum = sum + i\n",
    "#     i += sum // 2\n",
    "# print(f\"{sum}\")\n",
    "\n",
    "# # i = 1\n",
    "# # sum = 1\n",
    "\n",
    "while i <= 2:\n",
    "    print(f\"{sum}\")\n",
    "    i = i*0.5\n",
    "    sum = sum + i\n",
    "\n",
    "\n",
    "    \n",
    "\n",
    "\n",
    "\n",
    "\n",
    "\n",
    "\n",
    "# sum = 0\n",
    "# i = 1\n",
    "# n = 100\n",
    "\n",
    "# while i <= n:\n",
    "#     sum = sum + i\n",
    "#     i = i+1\n",
    "# print(f\"{sum}\")"
   ]
  }
 ],
 "metadata": {
  "kernelspec": {
   "display_name": "Python 3.9.13 ('Python-Jonas-Bengtstrom-9S9shp4H')",
   "language": "python",
   "name": "python3"
  },
  "language_info": {
   "codemirror_mode": {
    "name": "ipython",
    "version": 3
   },
   "file_extension": ".py",
   "mimetype": "text/x-python",
   "name": "python",
   "nbconvert_exporter": "python",
   "pygments_lexer": "ipython3",
   "version": "3.9.13"
  },
  "orig_nbformat": 4,
  "vscode": {
   "interpreter": {
    "hash": "3be68742c16efe966197c8d096961fddba4647d994ea7cd07d1be7ea704d2a8e"
   }
  }
 },
 "nbformat": 4,
 "nbformat_minor": 2
}
