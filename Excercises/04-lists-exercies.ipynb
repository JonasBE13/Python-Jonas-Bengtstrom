{
 "cells": [
  {
   "cell_type": "markdown",
   "metadata": {},
   "source": [
    "# 1. Dice rolls (*)\n",
    "## Simulate 10 dice rolls and append the rolls to a list or use list comprehension.\n",
    "\n",
    " - a)   sort the list in ascending order (*)\n",
    "\n",
    " - b)   sort the list in descending order (*)\n",
    "\n",
    " - c)   find the maximum and minimum value in the list (*)"
   ]
  },
  {
   "cell_type": "markdown",
   "metadata": {},
   "source": [
    "## a)"
   ]
  },
  {
   "cell_type": "code",
   "execution_count": 2,
   "metadata": {},
   "outputs": [
    {
     "data": {
      "text/plain": [
       "[2, 2, 4, 4, 4, 5, 5, 6, 6, 6]"
      ]
     },
     "execution_count": 2,
     "metadata": {},
     "output_type": "execute_result"
    }
   ],
   "source": [
    "# solve with listcomprehension\n",
    "\n",
    "import random as rnd\n",
    "\n",
    "diceroll = [rnd.randint(1,6) for i in range(10)]       # creates a list called 'diceroll' \n",
    "diceroll.sort()\n",
    "diceroll"
   ]
  },
  {
   "cell_type": "code",
   "execution_count": 5,
   "metadata": {},
   "outputs": [
    {
     "name": "stdout",
     "output_type": "stream",
     "text": [
      "[1, 1, 1, 1, 3, 4, 4, 5, 5, 5]\n"
     ]
    }
   ],
   "source": [
    "# Different way to solve a).\n",
    "# solve with append\n",
    "\n",
    "diceslist = []      # creates a empty list called 'diceslist'\n",
    "for i in range(10): # loops 10 times\n",
    "    rolls = rnd.randint(1,6)    # uses 'rnd' to simulate dice rolls. saves them to 'rolls'\n",
    "    diceslist.append(rolls)     # appends/adds 'rolls' to the empty 'diceslists' list. \n",
    "diceslist.sort()                # sorts the list in acending order\n",
    "print(f\"{diceslist}\")"
   ]
  },
  {
   "cell_type": "markdown",
   "metadata": {},
   "source": [
    "## b)\n",
    "- sort list in decending order"
   ]
  },
  {
   "cell_type": "code",
   "execution_count": 6,
   "metadata": {},
   "outputs": [
    {
     "data": {
      "text/plain": [
       "[6, 6, 6, 6, 5, 3, 3, 2, 1, 1]"
      ]
     },
     "execution_count": 6,
     "metadata": {},
     "output_type": "execute_result"
    }
   ],
   "source": [
    "diceroll = [rnd.randint(1,6) for i in range(10)]\n",
    "diceroll.sort(reverse=True)         # sorts the list and reverses it. i.e decending order\n",
    "diceroll"
   ]
  },
  {
   "cell_type": "markdown",
   "metadata": {},
   "source": [
    "## c)\n",
    "- find the min value\n",
    "- find the max value"
   ]
  },
  {
   "cell_type": "code",
   "execution_count": 9,
   "metadata": {},
   "outputs": [
    {
     "name": "stdout",
     "output_type": "stream",
     "text": [
      "[4, 1, 1, 3, 1, 5, 4, 4, 3, 4]\n",
      "1\n",
      "5\n"
     ]
    }
   ],
   "source": [
    "diceroll = [rnd.randint(1,6) for i in range(10)]\n",
    "print(diceroll)\n",
    "print(min(diceroll))        # finds min value\n",
    "print(max(diceroll))        # finds max value"
   ]
  },
  {
   "cell_type": "markdown",
   "metadata": {},
   "source": [
    "# 2. Food menu (*)\n",
    "## Create a:\n",
    "\n",
    "-  a)   list with the following elements: \"vegetarisk lasagne\", \"spaghetti\", \"fisk\", \"grönsakssoppa\", \"pannkakor\". (*)\n",
    "\n",
    "-  b)   list with the weekdays (*)\n",
    "\n",
    "-  c)   create a food menu with each day corresponding to each food item and print it out. (*)"
   ]
  },
  {
   "cell_type": "code",
   "execution_count": 26,
   "metadata": {},
   "outputs": [
    {
     "name": "stdout",
     "output_type": "stream",
     "text": [
      "Meny: \n",
      "måndag: vegetarisk lasange\n",
      "tisdag: spaghetti\n",
      "onsdag: fisk\n",
      "torsdag: grönsaksoppa\n",
      "fredag: pannkakor\n",
      "\n"
     ]
    }
   ],
   "source": [
    "mat = [\"vegetarisk lasange\", \"spaghetti\", \"fisk\", \"grönsaksoppa\", \"pannkakor\"]\n",
    "weekdays = [\"måndag\", \"tisdag\", \"onsdag\", \"torsdag\", \"fredag\"]\n",
    "\n",
    "#list(zip(mat, weekdays))\n",
    "meny = \"Meny: \\n\"\n",
    "# 'zip': in this case, joins two lists/tuples together.\n",
    "# definition of zip: The zip() function returns a zip object, which is an iterator of tuples where the first item in each passed iterator is paired together, and then the second item in each passed iterator are paired together etc.\n",
    "# If the passed iterators have different lengths, the iterator with the least items decides the length of the new iterator.\n",
    "for i, j in zip(mat, weekdays):     # listan 'mat' sparas i 'i'.        listan 'weekdays' sparas i 'j'\n",
    "    meny += f\"{j}: {i}\\n\"           # '\\n' för att utskriften ska vara användbar. newline.\n",
    "print(meny)\n"
   ]
  },
  {
   "cell_type": "markdown",
   "metadata": {},
   "source": [
    "# 3. Squares\n",
    "- Use list comprehension to create a list of squares from -10 to 10 (*)\n",
    "- Plot this list using matplotlib. (*)"
   ]
  },
  {
   "cell_type": "code",
   "execution_count": 5,
   "metadata": {},
   "outputs": [
    {
     "name": "stdout",
     "output_type": "stream",
     "text": [
      "[100, 81, 64, 49, 36, 25, 16, 9, 4, 1, 0, 1, 4, 9, 16, 25, 36, 49, 64, 81]\n"
     ]
    },
    {
     "data": {
      "image/png": "[encoded data removed]",
      "text/plain": [
       "<Figure size 640x480 with 1 Axes>"
      ]
     },
     "metadata": {},
     "output_type": "display_data"
    }
   ],
   "source": [
    "import matplotlib.pyplot as plt\n",
    "cubes = [i**2 for i in range(-10, 10)]  \n",
    "print(cubes)\n",
    "plt.plot(cubes);\n",
    "plt.xlabel(\"X\")\n",
    "plt.ylabel(\"Y\")\n",
    "plt.title(\"Cubes of -10 to 10\"); # ';' tar bort utskriften\n",
    "\n"
   ]
  }
 ],
 "metadata": {
  "kernelspec": {
   "display_name": "Python 3.9.13 ('Python-Jonas-Bengtstrom-9S9shp4H')",
   "language": "python",
   "name": "python3"
  },
  "language_info": {
   "codemirror_mode": {
    "name": "ipython",
    "version": 3
   },
   "file_extension": ".py",
   "mimetype": "text/x-python",
   "name": "python",
   "nbconvert_exporter": "python",
   "pygments_lexer": "ipython3",
   "version": "3.9.13"
  },
  "orig_nbformat": 4,
  "vscode": {
   "interpreter": {
    "hash": "3be68742c16efe966197c8d096961fddba4647d994ea7cd07d1be7ea704d2a8e"
   }
  }
 },
 "nbformat": 4,
 "nbformat_minor": 2
}
