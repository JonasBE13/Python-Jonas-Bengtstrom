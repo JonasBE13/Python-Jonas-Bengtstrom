{
 "cells": [
  {
   "cell_type": "markdown",
   "metadata": {},
   "source": [
    "# 1. Dice rolls (*)\n",
    "## Simulate 10 dice rolls and append the rolls to a list or use list comprehension.\n",
    "\n",
    " - a)   sort the list in ascending order (*)\n",
    "\n",
    " - b)   sort the list in descending order (*)\n",
    "\n",
    " - c)   find the maximum and minimum value in the list (*)"
   ]
  },
  {
   "cell_type": "markdown",
   "metadata": {},
   "source": [
    "## a)"
   ]
  },
  {
   "cell_type": "code",
   "execution_count": 2,
   "metadata": {},
   "outputs": [
    {
     "data": {
      "text/plain": [
       "[2, 2, 4, 4, 4, 5, 5, 6, 6, 6]"
      ]
     },
     "execution_count": 2,
     "metadata": {},
     "output_type": "execute_result"
    }
   ],
   "source": [
    "# solve with listcomprehension\n",
    "\n",
    "import random as rnd\n",
    "\n",
    "diceroll = [rnd.randint(1,6) for i in range(10)]       # creates a list called 'diceroll' \n",
    "diceroll.sort()\n",
    "diceroll"
   ]
  },
  {
   "cell_type": "code",
   "execution_count": 5,
   "metadata": {},
   "outputs": [
    {
     "name": "stdout",
     "output_type": "stream",
     "text": [
      "[1, 1, 1, 1, 3, 4, 4, 5, 5, 5]\n"
     ]
    }
   ],
   "source": [
    "# Different way to solve a).\n",
    "# solve with append\n",
    "\n",
    "diceslist = []      # creates a empty list called 'diceslist'\n",
    "for i in range(10): # loops 10 times\n",
    "    rolls = rnd.randint(1,6)    # uses 'rnd' to simulate dice rolls. saves them to 'rolls'\n",
    "    diceslist.append(rolls)     # appends/adds 'rolls' to the empty 'diceslists' list. \n",
    "diceslist.sort()                # sorts the list in acending order\n",
    "print(f\"{diceslist}\")"
   ]
  },
  {
   "cell_type": "markdown",
   "metadata": {},
   "source": [
    "## b)\n",
    "- sort list in decending order"
   ]
  },
  {
   "cell_type": "code",
   "execution_count": 6,
   "metadata": {},
   "outputs": [
    {
     "data": {
      "text/plain": [
       "[6, 6, 6, 6, 5, 3, 3, 2, 1, 1]"
      ]
     },
     "execution_count": 6,
     "metadata": {},
     "output_type": "execute_result"
    }
   ],
   "source": [
    "diceroll = [rnd.randint(1,6) for i in range(10)]\n",
    "diceroll.sort(reverse=True)         # sorts the list and reverses it. i.e decending order\n",
    "diceroll"
   ]
  },
  {
   "cell_type": "markdown",
   "metadata": {},
   "source": [
    "## c)\n",
    "- find the min value\n",
    "- find the max value"
   ]
  },
  {
   "cell_type": "code",
   "execution_count": 9,
   "metadata": {},
   "outputs": [
    {
     "name": "stdout",
     "output_type": "stream",
     "text": [
      "[4, 1, 1, 3, 1, 5, 4, 4, 3, 4]\n",
      "1\n",
      "5\n"
     ]
    }
   ],
   "source": [
    "diceroll = [rnd.randint(1,6) for i in range(10)]\n",
    "print(diceroll)\n",
    "print(min(diceroll))        # finds min value\n",
    "print(max(diceroll))        # finds max value"
   ]
  }
 ],
 "metadata": {
  "kernelspec": {
   "display_name": "Python 3.9.13 ('Python-Jonas-Bengtstrom-9S9shp4H')",
   "language": "python",
   "name": "python3"
  },
  "language_info": {
   "codemirror_mode": {
    "name": "ipython",
    "version": 3
   },
   "file_extension": ".py",
   "mimetype": "text/x-python",
   "name": "python",
   "nbconvert_exporter": "python",
   "pygments_lexer": "ipython3",
   "version": "3.9.13"
  },
  "orig_nbformat": 4,
  "vscode": {
   "interpreter": {
    "hash": "3be68742c16efe966197c8d096961fddba4647d994ea7cd07d1be7ea704d2a8e"
   }
  }
 },
 "nbformat": 4,
 "nbformat_minor": 2
}
