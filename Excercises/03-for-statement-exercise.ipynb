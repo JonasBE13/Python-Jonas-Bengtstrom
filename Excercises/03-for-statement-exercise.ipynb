{
 "cells": [
  {
   "cell_type": "markdown",
   "metadata": {},
   "source": [
    "# 1. Count numbers (*)\n",
    "## Use a for statement to count from:\n",
    "\n",
    " - a)   -10 to 10 with one increment (*)\n",
    "\n",
    " - b)   -10 to 10 with two increment (*)"
   ]
  },
  {
   "cell_type": "markdown",
   "metadata": {},
   "source": [
    "# a)"
   ]
  },
  {
   "cell_type": "code",
   "execution_count": 19,
   "metadata": {},
   "outputs": [
    {
     "name": "stdout",
     "output_type": "stream",
     "text": [
      "-10 -9 -8 -7 -6 -5 -4 -3 -2 -1 0 1 2 3 4 5 6 7 8 9 10 "
     ]
    }
   ],
   "source": [
    "for i in range(-10, 11):\n",
    "    print(f\"{i}\", end = \" \")"
   ]
  },
  {
   "cell_type": "markdown",
   "metadata": {},
   "source": [
    "# b)"
   ]
  },
  {
   "cell_type": "code",
   "execution_count": 20,
   "metadata": {},
   "outputs": [
    {
     "name": "stdout",
     "output_type": "stream",
     "text": [
      "-10 -8 -6 -4 -2 0 2 4 6 8 10 "
     ]
    }
   ],
   "source": [
    "for i in range(-10, 11, 2):     # \"2\" gör så att loopen ökar i increments av 2.  \n",
    "    print(f\"{i}\", end = \" \")"
   ]
  },
  {
   "cell_type": "markdown",
   "metadata": {},
   "source": [
    "# 2. Arithmetic sum (*)\n",
    "## Use a for statement to compute the following sums:\n",
    "\n",
    "-  a) sum=1+2+…+99+100  (*)\n",
    "-  b) sum=1+3+5+…+97+99  (*)"
   ]
  },
  {
   "cell_type": "markdown",
   "metadata": {},
   "source": [
    "# a)"
   ]
  },
  {
   "cell_type": "code",
   "execution_count": 24,
   "metadata": {},
   "outputs": [
    {
     "name": "stdout",
     "output_type": "stream",
     "text": [
      "0 1 3 6 10 15 21 28 36 45 55 66 78 91 105 120 136 153 171 190 210 231 253 276 300 325 351 378 406 435 465 496 528 561 595 630 666 703 741 780 820 861 903 946 990 1035 1081 1128 1176 1225 1275 1326 1378 1431 1485 1540 1596 1653 1711 1770 1830 1891 1953 2016 2080 2145 2211 2278 2346 2415 2485 2556 2628 2701 2775 2850 2926 3003 3081 3160 3240 3321 3403 3486 3570 3655 3741 3828 3916 4005 4095 4186 4278 4371 4465 4560 4656 4753 4851 4950 5050 "
     ]
    }
   ],
   "source": [
    "my_sum = 0\n",
    "\n",
    "for i in range(101):\n",
    "    my_sum += i\n",
    "    print(my_sum, end = \" \") # 'end = \" \"' för att göra outputen snyggare."
   ]
  },
  {
   "cell_type": "code",
   "execution_count": 36,
   "metadata": {},
   "outputs": [
    {
     "name": "stdout",
     "output_type": "stream",
     "text": [
      "1 4 9 16 25 36 49 64 81 100 121 144 169 196 225 256 289 324 361 400 441 484 529 576 625 676 729 784 841 900 961 1024 1089 1156 1225 1296 1369 1444 1521 1600 1681 1764 1849 1936 2025 2116 2209 2304 2401 2500 "
     ]
    }
   ],
   "source": [
    "my_sum = 0\n",
    "\n",
    "for i in range(1, 100, 2):      # ökar med increments av 2. \n",
    "    my_sum += i \n",
    "    print(my_sum, end = \" \")    # samma som ovan. gör outputen snyggare. "
   ]
  },
  {
   "cell_type": "markdown",
   "metadata": {},
   "source": [
    "# 3. Multiplication  table\n",
    " ##  Use for statement(s) to:\n",
    "\n",
    "-  a)   print out the 6th multiplication table from 0 to 10 (*)\n",
    "\n",
    "-  b)   let the user input the table, start and end of the table. (*)\n",
    "\n",
    "- c)   print out a full multiplication table from 0 to 10. (**)"
   ]
  },
  {
   "cell_type": "markdown",
   "metadata": {},
   "source": [
    "# a)"
   ]
  },
  {
   "cell_type": "code",
   "execution_count": 63,
   "metadata": {},
   "outputs": [
    {
     "name": "stdout",
     "output_type": "stream",
     "text": [
      "0 6 12 18 24 30 36 42 48 54 60 "
     ]
    }
   ],
   "source": [
    "sixth_table = 6                     # denna variabeln behövs inte, räcker att man skriver \"*6\" på \"i*\" ---->    i*6\n",
    "\n",
    "for i in range(11):               # i: kan heta vad som helst\n",
    "    sixth = i*sixth_table       # sixth: kan heta vad som helst. \n",
    "    print(sixth, end = \" \")"
   ]
  },
  {
   "cell_type": "markdown",
   "metadata": {},
   "source": [
    "# b)\n",
    "\n",
    "- Förklaring av kod: i får startvärdet som användaren skriver in\n",
    "- product = 'user_table' * i\n",
    "- i.e 'user_table' = 7\n",
    "- i.e i = 'start' = 5\n",
    "- i.e product = 7 * 5\n",
    "- i ökas med +1 varje itteration av loopen tills den når 'end1'+1"
   ]
  },
  {
   "cell_type": "code",
   "execution_count": 1,
   "metadata": {},
   "outputs": [
    {
     "name": "stdout",
     "output_type": "stream",
     "text": [
      "5*5 = 25\n",
      "5*6 = 30\n",
      "5*7 = 35\n",
      "5*8 = 40\n"
     ]
    }
   ],
   "source": [
    "user_table = int(input(\"Enter desired table: \"))\n",
    "start = int(input(\"Enter desired start: \"))\n",
    "end1 = int(input(\"Enter desired end: \"))\n",
    "\n",
    "for i in range(start, end1+1):      # i: har inget värde. Får startvärde av 'start'. Loopar lika många gånger som 'end' + 1.    i.e --->    start: 5, end:12+1  ---> 5,6,7,8,9,10,11,12. 12 gånger.\n",
    "    product = user_table * i        # i.e 'start = 5' ---> 'i' börjar från 5.   product = 'user_table' * 5\n",
    "    print(f\"{user_table}*{i} = {product}\")"
   ]
  },
  {
   "cell_type": "markdown",
   "metadata": {},
   "source": [
    "## c)"
   ]
  },
  {
   "cell_type": "code",
   "execution_count": 36,
   "metadata": {},
   "outputs": [
    {
     "name": "stdout",
     "output_type": "stream",
     "text": [
      "   0   0   0   0   0   0   0   0   0   0   0\n",
      "   0   1   2   3   4   5   6   7   8   9  10\n",
      "   0   2   4   6   8  10  12  14  16  18  20\n",
      "   0   3   6   9  12  15  18  21  24  27  30\n",
      "   0   4   8  12  16  20  24  28  32  36  40\n",
      "   0   5  10  15  20  25  30  35  40  45  50\n",
      "   0   6  12  18  24  30  36  42  48  54  60\n",
      "   0   7  14  21  28  35  42  49  56  63  70\n",
      "   0   8  16  24  32  40  48  56  64  72  80\n",
      "   0   9  18  27  36  45  54  63  72  81  90\n",
      "   0  10  20  30  40  50  60  70  80  90 100\n"
     ]
    }
   ],
   "source": [
    "for row in range (0,11):\n",
    "    for col in range(0,11):\n",
    "        number = row*col\n",
    "        print(f\"{number:4}\", end=\"\")    # ':4' affects spacing. i don't know why.\n",
    "    print() #newlline"
   ]
  }
 ],
 "metadata": {
  "kernelspec": {
   "display_name": "Python 3.9.13 ('Python-Jonas-Bengtstrom-9S9shp4H')",
   "language": "python",
   "name": "python3"
  },
  "language_info": {
   "codemirror_mode": {
    "name": "ipython",
    "version": 3
   },
   "file_extension": ".py",
   "mimetype": "text/x-python",
   "name": "python",
   "nbconvert_exporter": "python",
   "pygments_lexer": "ipython3",
   "version": "3.9.13"
  },
  "orig_nbformat": 4,
  "vscode": {
   "interpreter": {
    "hash": "3be68742c16efe966197c8d096961fddba4647d994ea7cd07d1be7ea704d2a8e"
   }
  }
 },
 "nbformat": 4,
 "nbformat_minor": 2
}
