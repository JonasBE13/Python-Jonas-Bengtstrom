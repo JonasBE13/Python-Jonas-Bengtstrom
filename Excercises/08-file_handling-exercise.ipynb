{
 "cells": [
  {
   "cell_type": "markdown",
   "metadata": {},
   "source": [
    "## 1. Dice rolls (*)\n",
    "Create a textfile called dice_rolls.txt using Python. Also for each subtask, write adequate headers.\n",
    "\n",
    "  a)   Simulate 20 dice rolls and write them to your textfile. (*)\n",
    "\n",
    "  b)   Sort the dice rolls from a) and write them to a separate row in the same textfile. (*)\n",
    "\n",
    "  c)   Count the number of fours in the dice rolls and write them to a separate row in the same textfile. (*)"
   ]
  },
  {
   "cell_type": "markdown",
   "metadata": {},
   "source": [
    "## a)"
   ]
  },
  {
   "cell_type": "code",
   "execution_count": null,
   "metadata": {},
   "outputs": [],
   "source": [
    "import random as rnd \n",
    "\n",
    "with open(\"../Data/dice_rolls.txt\", \"w\") as f_write:\n",
    "    \n",
    "    \n",
    "    for dice in range(20):\n",
    "        dice = rnd.randint(1,6)\n",
    "        f_write.write(f\"{dice}\")\n",
    "        print(dice)\n",
    "        \n",
    "\n",
    "\n",
    "#dicesRoll = [rnd.randint (1,6) for _ in range (20)]\n",
    "#dicesRoll\n",
    "\n"
   ]
  },
  {
   "cell_type": "markdown",
   "metadata": {},
   "source": [
    "## b)\n",
    "-  Sort the dice rolls from a) and write them to a separate row in the same textfile. (*)"
   ]
  },
  {
   "cell_type": "code",
   "execution_count": 7,
   "metadata": {},
   "outputs": [
    {
     "name": "stdout",
     "output_type": "stream",
     "text": [
      "[1, 1, 1, 2, 2, 2, 2, 3, 3, 3, 4, 4, 4, 5, 5, 5, 6, 6, 6, 6]\n"
     ]
    }
   ],
   "source": [
    "import random as rnd \n",
    "\n",
    "with open(\"../Data/dice_rolls.txt\", \"w\") as f_write:\n",
    "    \n",
    "    \n",
    "    dice = [rnd.randint(1,6) for i in range(20)] # i kan heta vad som helst\n",
    "    f_write.write(f\"{dice}\\n\")\n",
    "    dice.sort()\n",
    "    f_write.write(f\"{dice}\")\n",
    "    print(dice)\n",
    "        "
   ]
  },
  {
   "cell_type": "markdown",
   "metadata": {},
   "source": [
    "## c)\n",
    "- Count the number of fours in the dice rolls and write them to a separate row in the same textfile. (*)"
   ]
  },
  {
   "cell_type": "code",
   "execution_count": 16,
   "metadata": {},
   "outputs": [
    {
     "name": "stdout",
     "output_type": "stream",
     "text": [
      "Count of fours in list: {5}\n"
     ]
    },
    {
     "ename": "TypeError",
     "evalue": "TextIOWrapper.write() takes exactly one argument (2 given)",
     "output_type": "error",
     "traceback": [
      "\u001b[1;31m---------------------------------------------------------------------------\u001b[0m",
      "\u001b[1;31mTypeError\u001b[0m                                 Traceback (most recent call last)",
      "\u001b[1;32mc:\\Users\\jonas\\Documents\\GitHub\\Python-Jonas-Bengtstrom\\Excercises\\08-file_handling-exercise.ipynb Cell 7\u001b[0m in \u001b[0;36m<cell line: 3>\u001b[1;34m()\u001b[0m\n\u001b[0;32m      <a href='vscode-notebook-cell:/c%3A/Users/jonas/Documents/GitHub/Python-Jonas-Bengtstrom/Excercises/08-file_handling-exercise.ipynb#W5sZmlsZQ%3D%3D?line=8'>9</a>\u001b[0m count \u001b[39m=\u001b[39m dice\u001b[39m.\u001b[39mcount(\u001b[39m4\u001b[39m)           \u001b[39m## calls count function, \".count\". stores every instance of 4. \u001b[39;00m\n\u001b[0;32m     <a href='vscode-notebook-cell:/c%3A/Users/jonas/Documents/GitHub/Python-Jonas-Bengtstrom/Excercises/08-file_handling-exercise.ipynb#W5sZmlsZQ%3D%3D?line=9'>10</a>\u001b[0m \u001b[39mprint\u001b[39m(\u001b[39mf\u001b[39m\u001b[39m\"\u001b[39m\u001b[39mCount of fours in list:\u001b[39m\u001b[39m\"\u001b[39m, {count})\n\u001b[1;32m---> <a href='vscode-notebook-cell:/c%3A/Users/jonas/Documents/GitHub/Python-Jonas-Bengtstrom/Excercises/08-file_handling-exercise.ipynb#W5sZmlsZQ%3D%3D?line=10'>11</a>\u001b[0m f_write\u001b[39m.\u001b[39;49mwrite(\u001b[39mf\u001b[39;49m\u001b[39m\"\u001b[39;49m\u001b[39mCount of fours in list:\u001b[39;49m\u001b[39m\"\u001b[39;49m, {count})\n\u001b[0;32m     <a href='vscode-notebook-cell:/c%3A/Users/jonas/Documents/GitHub/Python-Jonas-Bengtstrom/Excercises/08-file_handling-exercise.ipynb#W5sZmlsZQ%3D%3D?line=12'>13</a>\u001b[0m \u001b[39mprint\u001b[39m(dice)\n",
      "\u001b[1;31mTypeError\u001b[0m: TextIOWrapper.write() takes exactly one argument (2 given)"
     ]
    }
   ],
   "source": [
    "import random as rnd\n",
    "\n",
    "with open(\"../Data/dice_rolls.txt\", \"w\") as f_write:\n",
    "    #count = 0\n",
    "    dice = [rnd.randint(1,6) for i in range(20)]\n",
    "    f_write.write(f\"{dice}\\n\")\n",
    "    dice.sort()\n",
    "    f_write.write(f\"{dice}\\n\")\n",
    "    count = dice.count(4)           ## calls count function, \".count\". stores every instance of 4. \n",
    "    print(f\"Count of fours in list:\", {count})\n",
    "    f_write.write(f\"Count of fours in list: {count}\")\n",
    "\n",
    "    print(dice)"
   ]
  }
 ],
 "metadata": {
  "kernelspec": {
   "display_name": "Python 3.9.13 ('Python-Jonas-Bengtstrom-wbW5Yh3F')",
   "language": "python",
   "name": "python3"
  },
  "language_info": {
   "codemirror_mode": {
    "name": "ipython",
    "version": 3
   },
   "file_extension": ".py",
   "mimetype": "text/x-python",
   "name": "python",
   "nbconvert_exporter": "python",
   "pygments_lexer": "ipython3",
   "version": "3.9.13"
  },
  "orig_nbformat": 4,
  "vscode": {
   "interpreter": {
    "hash": "688e18696179dfa8cf5fc9f998467e10e34a82e616e395cc61c35dd60ca291fc"
   }
  }
 },
 "nbformat": 4,
 "nbformat_minor": 2
}
