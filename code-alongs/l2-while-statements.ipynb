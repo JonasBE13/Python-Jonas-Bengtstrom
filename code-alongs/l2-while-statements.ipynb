{
 "cells": [
  {
   "cell_type": "markdown",
   "metadata": {},
   "source": [
    "# while loop\n",
    "- \"if-loop\"\n",
    "- as long as a condition is True -> the statements inside the while loop will run\n",
    "\n",
    "```py\n",
    "while condition:\n",
    "    statements\n",
    "    ...\n",
    "\n",
    "program continues here\n",
    "```"
   ]
  },
  {
   "cell_type": "code",
   "execution_count": 3,
   "metadata": {},
   "outputs": [
    {
     "name": "stdout",
     "output_type": "stream",
     "text": [
      "Hej i=0\n",
      "Hej i=1\n",
      "Hej i=2\n",
      "Hej i=3\n",
      "Program continues here\n"
     ]
    }
   ],
   "source": [
    "i = 0\n",
    "\n",
    "while i < 4:\n",
    "    print(f\"Hej {i=}\")\n",
    "    i += 1          # adds one to i <=> i = i + 1\n",
    "                    # assignments operator / tilldelnings operator\n",
    "print(\"Program continues here\")\n"
   ]
  },
  {
   "cell_type": "markdown",
   "metadata": {},
   "source": [
    "## Example - birds and oil\n",
    "\n",
    "There is an oil leakage causing the bird population in an island to 1/2 in each year. From start there were 80 000 birds. How many years does it take for it to have 1/10 remaning?"
   ]
  },
  {
   "cell_type": "code",
   "execution_count": 4,
   "metadata": {},
   "outputs": [
    {
     "name": "stdout",
     "output_type": "stream",
     "text": [
      "i=40000.0\n",
      "i=20000.0\n",
      "i=10000.0\n",
      "i=5000.0\n",
      "Det tar: 4 år för att populationen skall bli mindre än 1/10.\n"
     ]
    }
   ],
   "source": [
    "i = 80000   # amount of birds\n",
    "x = 0       #Saves the amount of years in 'x'\n",
    "while i > 8000:\n",
    "    i /= 2  # Halves 'i' each itteration\n",
    "    x += 1  # adds one year to 'x' each itteration\n",
    "    print(f\"{i=}\")\n",
    "print(f\"Det tar: {x} år för att populationen skall bli mindre än 1/10.\")"
   ]
  },
  {
   "cell_type": "markdown",
   "metadata": {},
   "source": [
    "## Example - Milk\n",
    "\n",
    "- 1l of milk has 1 500 000 bacterias in room temperature\n",
    "- Bacterias increases with 50% each hour in room temp\n",
    "- Milk get soured after 10 000 000 bacterias\n",
    "- How many hours does it take until the milk sours (whole hours)"
   ]
  },
  {
   "cell_type": "code",
   "execution_count": 2,
   "metadata": {},
   "outputs": [
    {
     "name": "stdout",
     "output_type": "stream",
     "text": [
      "Your milk stood for 5 before it spoiled\n"
     ]
    }
   ],
   "source": [
    "bacteria = 1500000\n",
    "hours = 0\n",
    "while bacteria <= 10000000:\n",
    "    bacteria *= 1.5\n",
    "    hours += 1\n",
    "print(f\"Your milk stood for {hours} before it spoiled\")"
   ]
  },
  {
   "cell_type": "code",
   "execution_count": 3,
   "metadata": {},
   "outputs": [
    {
     "name": "stdout",
     "output_type": "stream",
     "text": [
      "Year 1: number of birds 40000 left\n",
      "Year 2: number of birds 20000 left\n",
      "Year 3: number of birds 10000 left\n",
      "Year 4: number of birds 5000 left\n"
     ]
    }
   ],
   "source": [
    "from turtle import left\n",
    "\n",
    "\n",
    "birds = 80000 ## birds, years = 80000, 0. Tuple unpackiong\n",
    "year = 0\n",
    "limit = birds/10\n",
    "while birds >= limit:\n",
    "    birds /= 2\n",
    "    year += 1\n",
    "    print(f\"Year {year}: number of birds {birds:.0f} left\")"
   ]
  },
  {
   "cell_type": "code",
   "execution_count": 10,
   "metadata": {},
   "outputs": [
    {
     "name": "stdout",
     "output_type": "stream",
     "text": [
      "[1500000.0]\n",
      "[1500000.0, 2250000.0, 3375000.0, 5062500.0, 7593750.0, 11390625.0]\n",
      "Takes 5h for milk to get sour\n"
     ]
    },
    {
     "data": {
      "text/plain": [
       "Text(0.5, 1.0, 'Bacterias in milk in room temperature')"
      ]
     },
     "execution_count": 10,
     "metadata": {},
     "output_type": "execute_result"
    },
    {
     "data": {
      "image/png": "[encoded data removed]",
      "text/plain": [
       "<Figure size 640x480 with 1 Axes>"
      ]
     },
     "metadata": {},
     "output_type": "display_data"
    }
   ],
   "source": [
    "import matplotlib.pyplot as plt # går att använda modulen genom att skriva plt\n",
    "\n",
    "bacterias = 1.5e6 # = 1.5 * 10^6 = 1500000\n",
    "factor = 1.5\n",
    "hours = 0\n",
    "sour = 1e7 # 10^7\n",
    "\n",
    "bacterias_list = [bacterias]\n",
    "\n",
    "print(bacterias_list)\n",
    "\n",
    "while bacterias < sour:\n",
    "    bacterias *= factor\n",
    "    hours += 1\n",
    "    bacterias_list.append(bacterias) # adds element into the list\n",
    "\n",
    "print(bacterias_list)\n",
    "print(f\"Takes {hours}h for milk to get sour\")\n",
    "\n",
    "# creates a range object with numbers: 0,1,2,...,hours\n",
    "hours_list = range(0, hours+1)\n",
    "\n",
    "plt.plot(hours_list, bacterias_list, 'o--') #customiza sin graph med 'o', 'o-', 'o--'\n",
    "\n",
    "plt.plot(hours_list, [sour]*(hours+1))      # skapar en lista av sour. multipliceras med antal timmar. få en lista med samma värde.\n",
    "\n",
    "plt.grid()\n",
    "plt.ylabel(\"Number of bacterias\")\n",
    "plt.xlabel(\"Hours\")\n",
    "plt.title(\"Bacterias in milk in room temperature\")\n",
    "\n"
   ]
  },
  {
   "cell_type": "code",
   "execution_count": null,
   "metadata": {},
   "outputs": [],
   "source": []
  }
 ],
 "metadata": {
  "kernelspec": {
   "display_name": "Python 3.9.13 ('Python-Jonas-Bengtstrom-9S9shp4H')",
   "language": "python",
   "name": "python3"
  },
  "language_info": {
   "codemirror_mode": {
    "name": "ipython",
    "version": 3
   },
   "file_extension": ".py",
   "mimetype": "text/x-python",
   "name": "python",
   "nbconvert_exporter": "python",
   "pygments_lexer": "ipython3",
   "version": "3.9.13"
  },
  "orig_nbformat": 4,
  "vscode": {
   "interpreter": {
    "hash": "3be68742c16efe966197c8d096961fddba4647d994ea7cd07d1be7ea704d2a8e"
   }
  }
 },
 "nbformat": 4,
 "nbformat_minor": 2
}
