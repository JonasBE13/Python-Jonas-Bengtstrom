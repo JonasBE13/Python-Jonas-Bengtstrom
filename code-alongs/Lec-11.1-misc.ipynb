{
 "cells": [
  {
   "cell_type": "code",
   "execution_count": 1,
   "metadata": {},
   "outputs": [
    {
     "data": {
      "text/plain": [
       "-5"
      ]
     },
     "execution_count": 1,
     "metadata": {},
     "output_type": "execute_result"
    }
   ],
   "source": [
    "class Person:\n",
    "    # bare attribute\n",
    "    age = 40\n",
    "\n",
    "person_instance = Person()\n",
    "person_instance.age = -5\n",
    "person_instance.age"
   ]
  },
  {
   "cell_type": "code",
   "execution_count": 5,
   "metadata": {},
   "outputs": [
    {
     "name": "stdout",
     "output_type": "stream",
     "text": [
      "40\n"
     ]
    },
    {
     "data": {
      "text/plain": [
       "10"
      ]
     },
     "execution_count": 5,
     "metadata": {},
     "output_type": "execute_result"
    }
   ],
   "source": [
    "# i andra språk använder man getters och setters \n",
    "class Person:\n",
    "    \n",
    "    # type hinting - returns None\n",
    "    def __init__(self, age: float) -> None:\n",
    "        # bare attribute\n",
    "        self._age = age\n",
    "\n",
    "    def get_age(self) -> float:\n",
    "        return self._age\n",
    "    \n",
    "    def set_age(self, value: float) -> None:\n",
    "        # valideringskod\n",
    "        self._age = value\n",
    "\n",
    "person_instance = Person(40)\n",
    "#person_instance.age = -5\n",
    "print(person_instance.get_age())\n",
    "\n",
    "person_instance.set_age(10)\n",
    "person_instance.get_age()"
   ]
  },
  {
   "cell_type": "code",
   "execution_count": 3,
   "metadata": {},
   "outputs": [
    {
     "name": "stdout",
     "output_type": "stream",
     "text": [
      "Setter called....\n",
      "Setter called....\n",
      "getter called....\n"
     ]
    },
    {
     "data": {
      "text/plain": [
       "20"
      ]
     },
     "execution_count": 3,
     "metadata": {},
     "output_type": "execute_result"
    }
   ],
   "source": [
    "# i Python vill man direkt komma åt ens property och då dekorerar man med @property\n",
    "class Person:\n",
    "    # type hinting - returns none\n",
    "    def __init__(self, age) -> None:\n",
    "        # assignment -> setter körs\n",
    "        self.age = age\n",
    "\n",
    "    # getter först, därefter setter\n",
    "    @property\n",
    "    def age(self) -> float:\n",
    "        print(\"getter called....\")\n",
    "        return self._age\n",
    "\n",
    "    #andra metoder....\n",
    "    def run_away(self):\n",
    "        print(\"Person runs away from class ....\")\n",
    "\n",
    "\n",
    "    @age.setter\n",
    "    def age(self, value: float) -> None:\n",
    "        #valideringskod\n",
    "        print(\"Setter called....\")\n",
    "        self._age = value\n",
    "\n",
    "\n",
    "person_instance = Person(40)\n",
    "person_instance.age = 20\n",
    "person_instance.age\n",
    "\n",
    "\n",
    "# kör utan gettern...\n",
    "#person_instance._age\n",
    "\n"
   ]
  },
  {
   "cell_type": "code",
   "execution_count": 4,
   "metadata": {},
   "outputs": [
    {
     "name": "stdout",
     "output_type": "stream",
     "text": [
      "Setter called....\n",
      "{'_age': 200}\n"
     ]
    },
    {
     "data": {
      "text/plain": [
       "200"
      ]
     },
     "execution_count": 4,
     "metadata": {},
     "output_type": "execute_result"
    }
   ],
   "source": [
    "person_instance1 = Person(200)\n",
    "print(person_instance1.__dict__)\n",
    "person_instance1._age"
   ]
  }
 ],
 "metadata": {
  "kernelspec": {
   "display_name": "Python 3.9.13 ('Python-Jonas-Bengtstrom-wbW5Yh3F')",
   "language": "python",
   "name": "python3"
  },
  "language_info": {
   "codemirror_mode": {
    "name": "ipython",
    "version": 3
   },
   "file_extension": ".py",
   "mimetype": "text/x-python",
   "name": "python",
   "nbconvert_exporter": "python",
   "pygments_lexer": "ipython3",
   "version": "3.9.13"
  },
  "orig_nbformat": 4,
  "vscode": {
   "interpreter": {
    "hash": "688e18696179dfa8cf5fc9f998467e10e34a82e616e395cc61c35dd60ca291fc"
   }
  }
 },
 "nbformat": 4,
 "nbformat_minor": 2
}
