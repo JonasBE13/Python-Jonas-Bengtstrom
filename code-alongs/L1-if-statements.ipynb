{
 "cells": [
  {
   "cell_type": "markdown",
   "metadata": {},
   "source": [
    "## If-statements\n",
    "## if-Else"
   ]
  },
  {
   "cell_type": "code",
   "execution_count": 2,
   "metadata": {},
   "outputs": [
    {
     "name": "stdout",
     "output_type": "stream",
     "text": [
      "Välkommen in.\n"
     ]
    }
   ],
   "source": [
    "age = int(input(\"Hur gammal är du?\"))\n",
    "\n",
    "if age < 18:\n",
    "    print(f\"Du är {age} år gammal, gränsen är 18.\")\n",
    "    print(\"Du får inte gå in i puben.\")\n",
    "else:\n",
    "    print(\"Välkommen in.\")\n"
   ]
  },
  {
   "cell_type": "markdown",
   "metadata": {},
   "source": []
  },
  {
   "cell_type": "code",
   "execution_count": null,
   "metadata": {},
   "outputs": [],
   "source": [
    "age = 15\n",
    "height = 135\n",
    "\n",
    "if age > 10 and height > 130:\n",
    "    print(\"Du får åka balder!\")\n",
    "else:\n",
    "    print(\"Du får inte åka balder.\")"
   ]
  },
  {
   "cell_type": "code",
   "execution_count": 10,
   "metadata": {},
   "outputs": [
    {
     "name": "stdout",
     "output_type": "stream",
     "text": [
      "Du får inte åka balder.\n"
     ]
    }
   ],
   "source": [
    "age = 15\n",
    "height = 208\n",
    "#Height är större än 130 och mindre eller lika med 210\n",
    "if age > 10 and  130 < height <= 210:\n",
    "    print(\"Du får åka balder!\")\n",
    "else:\n",
    "    print(\"Du får inte åka balder.\")"
   ]
  },
  {
   "cell_type": "markdown",
   "metadata": {},
   "source": [
    "### Modulo operator %\n",
    "resterande av division.\n",
    "\n",
    "Ex\n",
    "\n",
    "- 5 % 3 = 2\n",
    "- 22 % 9 = 4"
   ]
  },
  {
   "cell_type": "code",
   "execution_count": 12,
   "metadata": {},
   "outputs": [
    {
     "name": "stdout",
     "output_type": "stream",
     "text": [
      "Jämnt tal\n"
     ]
    }
   ],
   "source": [
    "number = 42\n",
    "\n",
    "# 2 equal signs => checks if left is equal to right\n",
    "if number % 2 == 0:\n",
    "    print(\"Jämnt tal\")\n",
    "\n",
    "\n"
   ]
  },
  {
   "cell_type": "code",
   "execution_count": 18,
   "metadata": {},
   "outputs": [
    {
     "name": "stdout",
     "output_type": "stream",
     "text": [
      "3==4: False\n",
      "3==3: True\n",
      "3>=3: True\n",
      "3!=3: False\n"
     ]
    }
   ],
   "source": [
    "print(f\"3==4: {3 == 4}\")\n",
    "print(f\"3==3: {3 == 3}\") # equal operator\n",
    "print(f\"3>=3: {3 == 3}\") # larger than or equal operator\n",
    "print(f\"3!=3: {3 != 3}\") # not equal operator\n",
    "\n",
    "# boolean. true or false"
   ]
  },
  {
   "cell_type": "markdown",
   "metadata": {},
   "source": [
    "## if - elif - else\n",
    "\n",
    "```py\n",
    "if condition:\n",
    "    statement_1\n",
    "    ...\n",
    "    statement_n\n",
    "elif condition:\n",
    "    statement_1\n",
    "    ...\n",
    "    statement_m\n",
    "...\n",
    "elif condition:\n",
    "    ...\n",
    "else:\n",
    "    statements\n",
    "    ...\n",
    "\n",
    "program continues ...\n",
    "\n",
    "```"
   ]
  },
  {
   "cell_type": "code",
   "execution_count": 2,
   "metadata": {},
   "outputs": [
    {
     "name": "stdout",
     "output_type": "stream",
     "text": [
      "weight=25.0\n",
      "Give patient 750mg\n"
     ]
    }
   ],
   "source": [
    "weight = float(input(\"Enter patiens weight (kg): \"))\n",
    "print(f\"{weight=}\")\n",
    "if weight < 20:\n",
    "    print(\"Give patient 500mg\")\n",
    "elif weight < 40:\n",
    "    print(\"Give patient 750mg\")\n",
    "else:\n",
    "    print(\"Give patient 1000mg\")\n",
    "\n",
    "    ## DIFFERENT WAY TO CONVERT STRING TO FLOAT\n",
    "\n",
    "    # weight = input(Enter patients weight in (kg):)\n",
    "    # print(f\"{weight=}\")\n",
    "    # weight = float(weight)\n",
    "    # print (f\"{weight=}\")"
   ]
  },
  {
   "cell_type": "markdown",
   "metadata": {},
   "source": [
    "## Nested If-statements"
   ]
  },
  {
   "cell_type": "code",
   "execution_count": 3,
   "metadata": {},
   "outputs": [
    {
     "name": "stdout",
     "output_type": "stream",
     "text": [
      "10 divisible by 5\n",
      "Even number\n"
     ]
    }
   ],
   "source": [
    "number = 10\n",
    "\n",
    "if number % 5 == 0:\n",
    "    print(f\"{number} divisible by 5\")\n",
    "    if number % 2 == 0:\n",
    "        print(\"Even number\")\n",
    "    else:\n",
    "        print(\"Odd number\")\n",
    "else:\n",
    "    print(\"Not divisible by 5\")"
   ]
  },
  {
   "cell_type": "code",
   "execution_count": null,
   "metadata": {},
   "outputs": [],
   "source": []
  }
 ],
 "metadata": {
  "kernelspec": {
   "display_name": "Python 3.9.13 ('Python-Jonas-Bengtstrom-9S9shp4H')",
   "language": "python",
   "name": "python3"
  },
  "language_info": {
   "codemirror_mode": {
    "name": "ipython",
    "version": 3
   },
   "file_extension": ".py",
   "mimetype": "text/x-python",
   "name": "python",
   "nbconvert_exporter": "python",
   "pygments_lexer": "ipython3",
   "version": "3.9.13"
  },
  "orig_nbformat": 4,
  "vscode": {
   "interpreter": {
    "hash": "3be68742c16efe966197c8d096961fddba4647d994ea7cd07d1be7ea704d2a8e"
   }
  }
 },
 "nbformat": 4,
 "nbformat_minor": 2
}
