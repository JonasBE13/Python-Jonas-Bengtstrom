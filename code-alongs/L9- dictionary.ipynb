{
 "cells": [
  {
   "cell_type": "markdown",
   "metadata": {},
   "source": [
    "# Dictionary\n",
    "\n",
    "- datastructure that stores data in key:value pairs"
   ]
  },
  {
   "cell_type": "code",
   "execution_count": 6,
   "metadata": {},
   "outputs": [
    {
     "name": "stdout",
     "output_type": "stream",
     "text": [
      "person dictionary {'name': 'Jonas', 'age': 26, 'work': 'student', 'interests': ['math', 'training', 'dricka öl', 'herbs', 'programmering'], 'phone': 112}\n",
      "person work: student\n",
      "person age: 26\n",
      "person interests: ['math', 'training']\n",
      "\n",
      "Jonas likes math\n",
      "Jonas likes training\n",
      "Jonas likes dricka öl\n",
      "Jonas likes herbs\n",
      "Jonas likes programmering\n"
     ]
    }
   ],
   "source": [
    "# create a dictionary with dict keyword\n",
    "\n",
    "person = dict(\n",
    "    name = \"Jonas\",\n",
    "    age = 26,\n",
    "    work = \"student\",\n",
    "    interests = [\"math\", \"training\", \"dricka öl\", \"herbs\", \"programmering\"],    #interests = key, math, training etc = value\n",
    "    phone = 112\n",
    ")\n",
    "\n",
    "print(f\"person dictionary {person}\")\n",
    "print(f\"person work: {person['work']}\")    #operatorn kan inte distinguisha på \"\" och ''. därför måste vi ha olika\n",
    "print(f\"person age: {person['age']}\")\n",
    "\n",
    "print(f\"person interests: {person['interests'][:2]}\\n\")   #kan slica listan. går att köra listoperationer på listan.\n",
    "\n",
    "for interests in person[\"interests\"]:\n",
    "    print(f\"Jonas likes {interests}\")\n",
    "\n"
   ]
  },
  {
   "cell_type": "code",
   "execution_count": 15,
   "metadata": {},
   "outputs": [
    {
     "name": "stdout",
     "output_type": "stream",
     "text": [
      "{'assign': 'assigns a value to a variable', 'dictionary': 'datastructure to store data in key-value pairs', 'method': 'a function bound to an object'}\n",
      "Vi ska lära oss de här glosorna \n",
      "\n",
      "assign  -  assigns a value to a variable\n",
      "dictionary  -  datastructure to store data in key-value pairs\n",
      "method  -  a function bound to an object\n"
     ]
    }
   ],
   "source": [
    "# create dictionary with curly brace {}\n",
    "words = {\n",
    "    \"assign\": \"assigns a value to a variable\", \n",
    "    \"dictionary\": \"datastructure to store data in key-value pairs\",\n",
    "    \"method\": \"a function bound to an object\",\n",
    "}\n",
    "\n",
    "print(words)\n",
    "print(\"Vi ska lära oss de här glosorna \\n\")\n",
    "\n",
    "for key in words:       #loopar genom words för att skriva ut keys. key = vad som helst.\n",
    "    print(key,\" - \" ,words[key])    #"
   ]
  },
  {
   "cell_type": "code",
   "execution_count": 17,
   "metadata": {},
   "outputs": [
    {
     "name": "stdout",
     "output_type": "stream",
     "text": [
      "assign               assigns a value to a variable\n",
      "dictionary           datastructure to store data in key-value pairs\n",
      "method               a function bound to an object\n"
     ]
    }
   ],
   "source": [
    "for key, value in words.items():\n",
    "    print(f\"{key:<20} {value}\") #<20 formaterar printen"
   ]
  }
 ],
 "metadata": {
  "kernelspec": {
   "display_name": "Python 3.9.13 ('Python-Jonas-Bengtstrom-wbW5Yh3F')",
   "language": "python",
   "name": "python3"
  },
  "language_info": {
   "codemirror_mode": {
    "name": "ipython",
    "version": 3
   },
   "file_extension": ".py",
   "mimetype": "text/x-python",
   "name": "python",
   "nbconvert_exporter": "python",
   "pygments_lexer": "ipython3",
   "version": "3.9.13"
  },
  "orig_nbformat": 4,
  "vscode": {
   "interpreter": {
    "hash": "688e18696179dfa8cf5fc9f998467e10e34a82e616e395cc61c35dd60ca291fc"
   }
  }
 },
 "nbformat": 4,
 "nbformat_minor": 2
}
