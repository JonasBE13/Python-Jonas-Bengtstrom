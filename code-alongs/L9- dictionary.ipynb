{
 "cells": [
  {
   "cell_type": "markdown",
   "metadata": {},
   "source": [
    "# Dictionary\n",
    "\n",
    "- datastructure that stores data in key:value pairs"
   ]
  },
  {
   "cell_type": "code",
   "execution_count": 6,
   "metadata": {},
   "outputs": [
    {
     "name": "stdout",
     "output_type": "stream",
     "text": [
      "person dictionary {'name': 'Jonas', 'age': 26, 'work': 'student', 'interests': ['math', 'training', 'dricka öl', 'herbs', 'programmering'], 'phone': 112}\n",
      "person work: student\n",
      "person age: 26\n",
      "person interests: ['math', 'training']\n",
      "\n",
      "Jonas likes math\n",
      "Jonas likes training\n",
      "Jonas likes dricka öl\n",
      "Jonas likes herbs\n",
      "Jonas likes programmering\n"
     ]
    }
   ],
   "source": [
    "# create a dictionary with dict keyword\n",
    "\n",
    "person = dict(\n",
    "    name = \"Jonas\",\n",
    "    age = 26,\n",
    "    work = \"student\",\n",
    "    interests = [\"math\", \"training\", \"dricka öl\", \"herbs\", \"programmering\"],    #interests = key, math, training etc = value\n",
    "    phone = 112\n",
    ")\n",
    "\n",
    "print(f\"person dictionary {person}\")\n",
    "print(f\"person work: {person['work']}\")    #operatorn kan inte distinguisha på \"\" och ''. därför måste vi ha olika\n",
    "print(f\"person age: {person['age']}\")\n",
    "\n",
    "print(f\"person interests: {person['interests'][:2]}\\n\")   #kan slica listan. går att köra listoperationer på listan.\n",
    "\n",
    "for interests in person[\"interests\"]:\n",
    "    print(f\"Jonas likes {interests}\")\n",
    "\n"
   ]
  },
  {
   "cell_type": "code",
   "execution_count": 15,
   "metadata": {},
   "outputs": [
    {
     "name": "stdout",
     "output_type": "stream",
     "text": [
      "{'assign': 'assigns a value to a variable', 'dictionary': 'datastructure to store data in key-value pairs', 'method': 'a function bound to an object'}\n",
      "Vi ska lära oss de här glosorna \n",
      "\n",
      "assign  -  assigns a value to a variable\n",
      "dictionary  -  datastructure to store data in key-value pairs\n",
      "method  -  a function bound to an object\n"
     ]
    }
   ],
   "source": [
    "# create dictionary with curly brace {}\n",
    "words = {\n",
    "    \"assign\": \"assigns a value to a variable\", \n",
    "    \"dictionary\": \"datastructure to store data in key-value pairs\",\n",
    "    \"method\": \"a function bound to an object\",\n",
    "}\n",
    "\n",
    "print(words)\n",
    "print(\"Vi ska lära oss de här glosorna \\n\")\n",
    "\n",
    "for key in words:       #loopar genom words för att skriva ut keys. key = vad som helst.\n",
    "    print(key,\" - \" ,words[key])    #"
   ]
  },
  {
   "cell_type": "code",
   "execution_count": 22,
   "metadata": {},
   "outputs": [
    {
     "name": "stdout",
     "output_type": "stream",
     "text": [
      "Glosor \n",
      "\n",
      "assign              assigns a value to a variable\n",
      "dictionary          datastructure to store data in key-value pairs\n",
      "method              a function bound to an object\n",
      "....................\n"
     ]
    }
   ],
   "source": [
    "print(\"Glosor \\n\")\n",
    "for key, value in words.items(): #items = values. # annat sätt att loopa. jämför med den ovan ^\n",
    "    print(f\"{key:<20}{value}\") #<20 formaterar printen. :<20 -> right align with witdth 20\n",
    "\n",
    "print(\".\"*20)"
   ]
  },
  {
   "cell_type": "code",
   "execution_count": 30,
   "metadata": {},
   "outputs": [
    {
     "name": "stdout",
     "output_type": "stream",
     "text": [
      "{'F': 0, 'E': 10, 'D': 20, 'C': 30, 'B': 40, 'A': 50}\n",
      "{'F': '< 10', 'E': 10, 'D': 20, 'C': 30, 'B': 40, 'A': 50, 'Course': 'Programmering 1'}\n"
     ]
    }
   ],
   "source": [
    "# F < 10, E: 10, D: 20, C: 30, B: 40, A: 50\n",
    "\n",
    "# empty dictionary\n",
    "grade_limit = {}\n",
    "for i , character in enumerate(\"ABCDEF\"[::-1]): # ::-1 -> reversar bokstäverna i listan.\n",
    "    grade_limit[character] = i*10\n",
    "\n",
    "print(grade_limit)\n",
    "\n",
    "# assigns a new value that is associated with the key F\n",
    "grade_limit[\"F\"] = \"< 10\" # vi kommer \n",
    "grade_limit[\"Course\"] = \"Programmering 1\" #skapar en ny nyckel som heter \"Course\". Ger den valuen \"Programmering 1\"\n",
    "\n",
    "print(grade_limit)\n",
    "\n"
   ]
  },
  {
   "cell_type": "markdown",
   "metadata": {},
   "source": [
    "## Dictionary comprehension"
   ]
  },
  {
   "cell_type": "code",
   "execution_count": 42,
   "metadata": {},
   "outputs": [
    {
     "name": "stdout",
     "output_type": "stream",
     "text": [
      "grade_limit={'F': 0, 'E': 10, 'D': 20, 'C': 30, 'B': 40, 'A': 50}\n",
      "scores=[39, 59, 34, 45, 23, 36, 37, 46, 10, 49, 52, 21, 24, 40, 50, 23, 58, 19, 25, 44, 13, 48, 42, 55, 58, 23, 6, 27, 52, 40]\n",
      "{'F': 1, 'E': 3, 'D': 7, 'C': 4, 'B': 8, 'A': 7}\n"
     ]
    }
   ],
   "source": [
    "import random as rnd\n",
    "\n",
    "grade_limit = {grade: i*10 for i, grade in enumerate(\"ABCDEF\"[::-1])}\n",
    "\n",
    "\n",
    "def generate_scores(number_students):\n",
    "    rnd.seed(1337)\n",
    "    scores = [rnd.randint(0,60) for _ in range(number_students)]\n",
    "    return scores\n",
    "\n",
    "scores = generate_scores(30)\n",
    "\n",
    "print(f\"{grade_limit=}\")\n",
    "print(f\"{scores=}\")\n",
    "\n",
    "# number of students in each grade category\n",
    "students_in_grade = {key: 0 for key in grade_limit}\n",
    "\n",
    "\n",
    "\n",
    "for score in scores:\n",
    "    for grade, limit in grade_limit.items():\n",
    "        if limit <= score < limit+10:\n",
    "            students_in_grade[grade] += 1\n",
    "            \n",
    "print(students_in_grade)"
   ]
  },
  {
   "cell_type": "code",
   "execution_count": 43,
   "metadata": {},
   "outputs": [
    {
     "data": {
      "text/plain": [
       "30"
      ]
     },
     "execution_count": 43,
     "metadata": {},
     "output_type": "execute_result"
    }
   ],
   "source": [
    "# check that all students have been put into categories\n",
    "total_students = 0\n",
    "for _, number_students in students_in_grade.items():\n",
    "    total_students += number_students\n",
    "\n",
    "total_students\n"
   ]
  }
 ],
 "metadata": {
  "kernelspec": {
   "display_name": "Python 3.9.13 ('Python-Jonas-Bengtstrom-wbW5Yh3F')",
   "language": "python",
   "name": "python3"
  },
  "language_info": {
   "codemirror_mode": {
    "name": "ipython",
    "version": 3
   },
   "file_extension": ".py",
   "mimetype": "text/x-python",
   "name": "python",
   "nbconvert_exporter": "python",
   "pygments_lexer": "ipython3",
   "version": "3.9.13"
  },
  "orig_nbformat": 4,
  "vscode": {
   "interpreter": {
    "hash": "688e18696179dfa8cf5fc9f998467e10e34a82e616e395cc61c35dd60ca291fc"
   }
  }
 },
 "nbformat": 4,
 "nbformat_minor": 2
}
