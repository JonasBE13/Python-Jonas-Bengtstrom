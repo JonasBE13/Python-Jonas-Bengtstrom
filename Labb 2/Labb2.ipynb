{
 "cells": [
  {
   "cell_type": "code",
   "execution_count": null,
   "metadata": {},
   "outputs": [],
   "source": [
    "#----------------- TESTING STUFF -----------------\n",
    "import matplotlib.pyplot as plt\n",
    "\n",
    "with open(\"testpoints.txt\") as f_read:\n",
    "    lines = f_read.readlines()\n",
    "\n",
    "    for line in lines:\n",
    "        print(line, end=\"\")\n",
    "    \n",
    "with open(\"datapoints.txt\") as f_read:\n",
    "    lines2 = f_read.readlines()\n",
    "\n",
    "    for line2 in lines2:\n",
    "        print(line2, end=\"\")"
   ]
  },
  {
   "cell_type": "code",
   "execution_count": 11,
   "metadata": {},
   "outputs": [
    {
     "data": {
      "text/plain": [
       "[<matplotlib.lines.Line2D at 0x29698612ee0>]"
      ]
     },
     "execution_count": 11,
     "metadata": {},
     "output_type": "execute_result"
    },
    {
     "data": {
      "image/png": "[encoded data removed]",
      "text/plain": [
       "<Figure size 640x480 with 1 Axes>"
      ]
     },
     "metadata": {},
     "output_type": "display_data"
    }
   ],
   "source": [
    "#----------------- TESTING STUFF -----------------\n",
    "x = [25, 24.2, 22, 20.25]\n",
    "y = [32, 31.5, 34, 34]\n",
    "\n",
    "plt.plot(x,y)"
   ]
  },
  {
   "cell_type": "code",
   "execution_count": 33,
   "metadata": {},
   "outputs": [
    {
     "name": "stdout",
     "output_type": "stream",
     "text": [
      "['0', '1', '0', '1', '1', '0', '1', '1', '1', '0', '1', '1', '1', '1', '0', '0', '1', '1', '0', '0', '1', '1', '0', '0', '1', '0', '0', '0', '0', '0', '0', '1', '0', '1', '1', '0', '0', '0', '0', '0', '1', '1', '1', '1', '1', '1', '0', '0', '1', '1', '0', '0', '1', '0', '0', '0', '0', '0', '0', '1', '0', '1', '1', '0', '1', '1', '1', '1', '1', '0', '1', '1', '0', '0', '0', '1', '1', '1', '1', '0', '1', '0', '1', '1', '0', '1', '1', '0', '0', '1', '0', '1', '0', '1', '0', '0', '0', '0', '1', '1', '0', '0', '1', '0', '1', '1', '0', '1', '0', '1', '1', '1', '1', '0', '0', '0', '0', '0', '1', '1', '0', '0', '1', '0', '0', '1', '1', '0', '1', '0', '1', '0', '1', '1', '1', '1', '0', '1', '1', '1', '1', '0', '0', '0', '0', '0', '0', '0', '1', '0']\n"
     ]
    }
   ],
   "source": [
    "#----------------- TESTING STUFF -----------------\n",
    "\n",
    "with open(\"datapoints.txt\") as f_read:\n",
    "    data_points = f_read.readlines()\n",
    "    data_points.pop(0)      # 'pop()' removes allocated line, i.e pop(0) removes 1st line\n",
    "\n",
    "    pokemon_width = []      # create an empty list, we're filling it with pokemons width\n",
    "    pokemon_height = []     # ==//== height\n",
    "    pokemon_label = []      # ==//== label, i.e 0, 1\n",
    "\n",
    "    for line in data_points: # splits the text and puts them in three elements\n",
    "        line = line.strip(\"\\n\").split(\" \")  # strip removes newline. \n",
    "        pokemon_width.append(line[0])       # adds to element, index [0]\n",
    "        pokemon_height.append(line[1])      # index [1]\n",
    "        pokemon_label.append(line[2])       # index [2]\n",
    "\n",
    "print(f\"{pokemon_label}\")\n"
   ]
  },
  {
   "cell_type": "code",
   "execution_count": null,
   "metadata": {},
   "outputs": [],
   "source": [
    "#----------------- TESTING STUFF -----------------\n",
    "import re\n",
    "\n",
    "\n",
    "with open(\"datapoints.txt\") as f_read:\n",
    "    data_points = f_read.readlines()\n",
    "    data_points.pop(0)      # 'pop()' removes allocated line, i.e pop(0) removes 1st line\n",
    "\n",
    "    pokemon_width = []      # create an empty list, we're filling it with pokemons width\n",
    "    pokemon_height = []     # ==//== height\n",
    "    pokemon_label = []      # ==//== label, i.e 0, 1\n",
    "\n",
    "    for line in data_points: # splits the text and puts them in three elements\n",
    "        line = line.strip(\"\\n\").split(\",\")  # strip removes newline. \n",
    "        #line = re.sub(',')\n",
    "        pokemon_width.append(line[0])       # adds to element, index [0]\n",
    "        pokemon_height.append(line[1])      # index [1]\n",
    "        pokemon_label.append(line[2])       # index [2]\n",
    "        \n",
    "        # pokemon_width = int(pokemon_width)\n",
    "        # pokemon_height = int(pokemon_height)\n",
    "        # pokemon_label = int(pokemon_label)\n",
    "print(pokemon_height)\n",
    "\n",
    "\n"
   ]
  },
  {
   "cell_type": "code",
   "execution_count": null,
   "metadata": {},
   "outputs": [],
   "source": [
    "import re\n",
    "import string\n",
    "import matplotlib.pyplot as plt\n",
    "\n",
    "with open(\"datapoints.txt\") as f_read:\n",
    "    data_points = f_read.readlines()\n",
    "    data_points.pop(0)      # 'pop()' removes allocated line, i.e pop(0) removes 1st line\n",
    "\n",
    "    pokemon_width = []      # create an empty list, we're filling it with pokemons width\n",
    "    pokemon_height = []     # ==//== height\n",
    "    pokemon_label = []      # ==//== label, i.e 0, 1\n",
    "\n",
    "\n",
    "    # splits the text and puts them in three elements. for every row\n",
    "    for line in data_points: \n",
    "        #line = re.sub('[ \\n]', '', line)    #'line' determines where text should be replaced. in this case it's replaced within the loop.\n",
    "        \n",
    "        # Source: https://support.microsoft.com/en-us/office/eval-function-8c4a1b10-85ba-40db-b0c8-5290da4d4166\n",
    "        # You can use the Eval function to evaluate an expression that results in a text string or a numeric value.\n",
    "        # You can construct a string and then pass it to the Eval function as if the string were an actual expression.\n",
    "        # The Eval function evaluates the string expression and returns its value. For example, Eval(\"1 + 1\") returns 2.\n",
    "        # In this case it reads the data in 'line.split(',')' and returns it as an 'int'.\n",
    "        # for every split\n",
    "        Width, Height, Label = [eval(i) for i in line.split(',')]\n",
    "\n",
    "\n",
    "        pokemon_width.append(Width)       # appends to pokemon_width\n",
    "        pokemon_height.append(Height)     # appends to pokemon_height\n",
    "        pokemon_label.append(Label)       # appends to pokemon_label\n",
    "        \n",
    "#print(data_points)\n",
    "#print(pokemon_label)\n",
    "\n",
    "# define a new function called \"pokemon_plot():\"\n",
    "def pokemon_plot():\n",
    "    # 'zip()' returns a zip object. iterator where the first item in each passes iterator is paired together, and then the second etc.\n",
    "    # makes it so that every element has a corresponding width, height and label. It is needed to know which datapoints\n",
    "    # corresponds with Pichu and which datapoints that corresponds with Pikachu \n",
    "    for (widthplot, heightplot, labelplot) in zip(pokemon_width, pokemon_height, pokemon_label):\n",
    "        # chooses the color for the pokemon. If \"'labelplot' = 0\": pokemon is pichu. Else it's pikachu.\n",
    "        if labelplot == 0:\n",
    "            color_of_pokemon = \"Blue\"\n",
    "        else:\n",
    "            color_of_pokemon = \"Red\"\n",
    "        # prints the actual points on the plot. changes color accordingly to the value of 'labelplot', i.e changes color\n",
    "        # according to the pokemon, pichu or pickachu.\n",
    "        plt.plot(widthplot, heightplot, 'o', markerfacecolor=color_of_pokemon, markersize = 10)\n",
    "    plt.grid()  # estetic. makes the plot look nicer in a grid format.\n",
    "# calls upon the function\n",
    "pokemon_plot()\n",
    "\n",
    "with open (\"testpoints.txt\") as f_read:\n",
    "    test_points = f_read.readlines()\n",
    "    print(test_points)\n",
    "    test_x_width = []\n",
    "    test_y_height = []\n",
    "\n",
    "\n"
   ]
  },
  {
   "cell_type": "code",
   "execution_count": null,
   "metadata": {},
   "outputs": [],
   "source": [
    "with open(\"testpoints.txt\") as test_read:\n",
    "    testpoints = test_read.readlines()\n",
    "    testpoints.pop(0)\n",
    "    x_width = []\n",
    "    y_height = []\n",
    "    \n",
    "    for line in testpoints:\n",
    "        Width2, Height2 = [eval(i) for i in line.split(',')]\n",
    "        print(Width2)\n",
    "        print(Height2)\n",
    "        x_width.append(Width2)\n",
    "        y_height.append(Height2)\n",
    "print(x_width)\n",
    "print(y_height)\n",
    "# testpoints = testpoints[1:]\n",
    "# print(testpoints)\n",
    "# for line in testpoints:\n",
    "#     x = re.search(r\"\\(\", line)\n",
    "#     y = re.search(r\"\\)\", line)\n",
    "#     #x_1 = x.span()[0]\n",
    "#     #y_1 = y.span()[0]\n",
    "#     print(line)\n",
    "#     #print(x_1)"
   ]
  },
  {
   "cell_type": "code",
   "execution_count": null,
   "metadata": {},
   "outputs": [],
   "source": [
    "#----------------- TEST ------------------------\n",
    "import re\n",
    "with open (\"testpoints.txt\") as f_read:\n",
    "    test_points = f_read.readlines()\n",
    "    test_points.pop(0)\n",
    "    for line in test_points:\n",
    "        x = re.search('^(,$', line)\n",
    "    print(x)\n",
    "    print(test_points)\n",
    "    test_x_width = []\n",
    "    test_y_height = []\n"
   ]
  },
  {
   "cell_type": "code",
   "execution_count": 40,
   "metadata": {},
   "outputs": [
    {
     "name": "stdout",
     "output_type": "stream",
     "text": [
      "['1. (25, 32)\\n', '2. (24.2, 31.5)\\n', '3. (22, 34)\\n', '4. (20.5, 34)\\n']\n",
      "4.\n"
     ]
    }
   ],
   "source": [
    "#----------------- TEST ------------------------\n",
    "import re\n",
    "with open (\"testpoints.txt\") as f_read:\n",
    "    test_points = f_read.readlines()\n",
    "    test_points.pop(0)\n",
    "    print(test_points)\n",
    "    for line in test_points:\n",
    "        x = re.search(r\"\\(\", line)\n",
    "        y = re.search(r\"\\)\", line)\n",
    "        x_1 = x.span()[0]\n",
    "        y_1 = y.span()[0]\n",
    "        line[x_1+1:y_1]\n",
    "    #print(x_1)\n",
    "    #print(y_1)\n",
    "    print(line[:2])\n",
    "    #print(test_points)\n",
    "    test_x_width = []\n",
    "    test_y_height = []\n"
   ]
  },
  {
   "cell_type": "code",
   "execution_count": 56,
   "metadata": {},
   "outputs": [
    {
     "name": "stdout",
     "output_type": "stream",
     "text": [
      "Test points:\n",
      "1. (25, 32)\n",
      "2. (24.2, 31.5)\n",
      "3. (22, 34)\n",
      "4. (20.5, 34)\n",
      "\n"
     ]
    },
    {
     "ename": "UnsupportedOperation",
     "evalue": "not readable",
     "output_type": "error",
     "traceback": [
      "\u001b[1;31m---------------------------------------------------------------------------\u001b[0m",
      "\u001b[1;31mUnsupportedOperation\u001b[0m                      Traceback (most recent call last)",
      "Cell \u001b[1;32mIn [56], line 5\u001b[0m\n\u001b[0;32m      3\u001b[0m     \u001b[38;5;28mprint\u001b[39m(text)\n\u001b[0;32m      4\u001b[0m \u001b[38;5;28;01mwith\u001b[39;00m \u001b[38;5;28mopen\u001b[39m (\u001b[38;5;124m\"\u001b[39m\u001b[38;5;124mtestpoints_test.txt\u001b[39m\u001b[38;5;124m\"\u001b[39m, \u001b[38;5;124m\"\u001b[39m\u001b[38;5;124mw\u001b[39m\u001b[38;5;124m\"\u001b[39m) \u001b[38;5;28;01mas\u001b[39;00m file:\n\u001b[1;32m----> 5\u001b[0m     text \u001b[38;5;241m=\u001b[39m \u001b[43mfile\u001b[49m\u001b[38;5;241;43m.\u001b[39;49m\u001b[43mreadlines\u001b[49m\u001b[43m(\u001b[49m\u001b[43m)\u001b[49m\n\u001b[0;32m      6\u001b[0m     text\u001b[38;5;241m.\u001b[39mpop(\u001b[38;5;241m0\u001b[39m)\n\u001b[0;32m      7\u001b[0m     test_points3 \u001b[38;5;241m=\u001b[39m []\n",
      "\u001b[1;31mUnsupportedOperation\u001b[0m: not readable"
     ]
    }
   ],
   "source": [
    "with open (\"testpoints.txt\", \"r\") as file:\n",
    "    text = file.read()\n",
    "    print(text)\n",
    "with open (\"testpoints_test.txt\", \"w\") as file:\n",
    "    test_points3 = []\n",
    "    \n",
    "    #height3 = []\n",
    "    new_text = text.replace('(','')\n",
    "    new_text = new_text.replace(')','')\n",
    "    new_text = new_text.replace('1.', '')\n",
    "    new_text = new_text.replace('2.', '')\n",
    "    new_text = new_text.replace('3.', '')\n",
    "    new_text = new_text.replace('4.', '')\n",
    "    print(new_text)\n",
    "\n",
    "\n",
    "    for line in new_text:\n",
    "        (width, height) = line.split(',')\n",
    "        \n",
    "        test_points3.append(width)\n",
    "        #height3.append(height)\n",
    "        \n"
   ]
  }
 ],
 "metadata": {
  "kernelspec": {
   "display_name": "Python 3.9.13 ('Python-Jonas-Bengtstrom-9S9shp4H')",
   "language": "python",
   "name": "python3"
  },
  "language_info": {
   "codemirror_mode": {
    "name": "ipython",
    "version": 3
   },
   "file_extension": ".py",
   "mimetype": "text/x-python",
   "name": "python",
   "nbconvert_exporter": "python",
   "pygments_lexer": "ipython3",
   "version": "3.9.13"
  },
  "orig_nbformat": 4,
  "vscode": {
   "interpreter": {
    "hash": "3be68742c16efe966197c8d096961fddba4647d994ea7cd07d1be7ea704d2a8e"
   }
  }
 },
 "nbformat": 4,
 "nbformat_minor": 2
}
