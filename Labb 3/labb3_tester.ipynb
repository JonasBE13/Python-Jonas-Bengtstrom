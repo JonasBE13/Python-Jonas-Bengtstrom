{
 "cells": [
  {
   "cell_type": "code",
   "execution_count": 27,
   "metadata": {},
   "outputs": [
    {
     "name": "stdout",
     "output_type": "stream",
     "text": [
      "x_position\n",
      "Circle with x_pos = 0 Circle with y_pos = 0, radius is = 1, circumference is = 6.283185307179586\n",
      "x_position\n",
      "Circle with x_pos = 1 Circle with y_pos = 1, radius is = 1, circumference is = 6.283185307179586\n",
      "x_position\n",
      "Rectangles X-position is: 0. Y-position is: 0. Base: 1. Height: 1\n",
      "True\n",
      "True\n"
     ]
    }
   ],
   "source": [
    "from geometry_shapes import Circle\n",
    "from geometry_shapes import Rectangle\n",
    "cirkel1 = Circle(0,0,1)\n",
    "print(cirkel1)\n",
    "cirkel2= Circle(1,1,1)\n",
    "print(cirkel2)\n",
    "rektangel = Rectangle(0,0,1,1)\n",
    "print(rektangel)\n",
    "\n",
    "print(cirkel1==cirkel2) #true\n",
    "\n",
    "\n",
    "print(cirkel1.is_inside_circle(0.5,0.5)) # true\n"
   ]
  }
 ],
 "metadata": {
  "kernelspec": {
   "display_name": "Python 3.9.13 ('Python-Jonas-Bengtstrom-9S9shp4H')",
   "language": "python",
   "name": "python3"
  },
  "language_info": {
   "codemirror_mode": {
    "name": "ipython",
    "version": 3
   },
   "file_extension": ".py",
   "mimetype": "text/x-python",
   "name": "python",
   "nbconvert_exporter": "python",
   "pygments_lexer": "ipython3",
   "version": "3.9.13"
  },
  "orig_nbformat": 4,
  "vscode": {
   "interpreter": {
    "hash": "3be68742c16efe966197c8d096961fddba4647d994ea7cd07d1be7ea704d2a8e"
   }
  }
 },
 "nbformat": 4,
 "nbformat_minor": 2
}
